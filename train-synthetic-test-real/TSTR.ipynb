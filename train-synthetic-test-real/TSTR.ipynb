{
 "cells": [
  {
   "cell_type": "markdown",
   "metadata": {
    "id": "uUvsR-mWBoNS"
   },
   "source": [
    "# Validate synthetic data via Train-Synthetic-Test-Real\n",
    "\n",
    "In this tutorial, we demonstrate the process of evaluating the quality of synthetic data based on its utility for a downstream Machine Learning (ML) task. The method is commonly referred to as the Train-Synthetic-Test-Real (TSTR) evaluation [[1](#refs)]. The TSTR evaluation serves as a robust measure of synthetic data quality because ML models rely on the accurate representation of deeper underlying patterns to perform effectively on previously unseen data. As a result, this approach offers a more reliable assessment than simply evaluating higher-level statistics.\n",
    "\n",
    "See image below for the general setup of TSTR.\n",
    "\n",
    "<img src='https://raw.githubusercontent.com/mostly-ai/mostly-tutorials/dev/train-synthetic-test-real/TSTR.png' width=\"600px\"/>\n",
    "\n",
    "Thus, we take actual (=real) data, and split it into a holdout and a training dataset. Next, we create a synthetic dataset only based on the training data. Then we train a Machine Learning (ML) model, and do so once using the synthetic data and once using the actual training data. And finally we evaluate the performance of each of those two models on top of the actual holdout data, that was kept aside all along. By comparing the performance of these two models, we can assess how much utility has been retained by the synthesization method with respect to a specific ML task.\n",
    "\n",
    "Note, that one needs to use a true holdout for the evaluation to properly measure out-of-sample performance, as this is the relevant metric for real-world use cases. If one uses the same training data that has been used for the synthesis, one would \"leak\" information from training into evaluation. This becomes particularly an issue for synthesizers that are prone to overfitting, and simply memorize the samples that it has been exposed to. If one, on the other hand, were to use synthetic data for the evaluation, one would not get meaningful results either, as the synthetic data might not be representative of the real data. E.g., consider the degenerate case of a synthesizer that only produces the same record over and over again. Any model trained on that data, would yield perfect results when evaluated on it again, whereas it will be of no use when applied to real data."
   ]
  },
  {
   "cell_type": "markdown",
   "metadata": {
    "id": "oZ7ERZK__8TB"
   },
   "source": [
    "## Synthesize Data via MOSTLY AI\n",
    "\n",
    "For this tutorial, we will be using a cleaned up version of the UCI Adult Income [[2](#refs)] dataset, that itself stems from the 1994 American Community Survey [[3](#refs)] by the US census bureau. The dataset consists of 48,842 records, 14 mixed-type features and has 1 target variable, that indicates whether a respondent had or had not reported a high level of annual income. This dataset is being selected, as it's one of the go-to datasets commonly used to showcase machine learning models in action.\n",
    "\n",
    "We will synthesize `census-training.csv` which can be found [here](https://github.com/mostly-ai/mostly-tutorials/raw/dev/train-synthetic-test-real/census-training.csv) This is an 80% sample of the full dataset. The remaining 20% sample can be found [here](https://github.com/mostly-ai/mostly-tutorials/raw/dev/train-synthetic-test-real/census-holdout.csv).\n",
    "\n",
    "The code below will automatically create a synthetic dataset using the MOSTLY AI Synthetic Data Platform. Optionally, you can also download a previously synthesized version [here](https://github.com/mostly-ai/mostly-tutorials/raw/dev/train-synthetic-test-real/census-synthetic.csv). If you want to use that you will need to modify the code to load that synthetic dataset accordingly.\n",
    "\n",
    "Please replace `INSERT_YOUR_API_KEY` with your API KEY before executing the code below and make sure you have all the required packages installed (e.g. `scikit-learn`, `seaborn`, etc.)\n"
   ]
  },
  {
   "cell_type": "code",
   "execution_count": 1,
   "metadata": {
    "ExecuteTime": {
     "end_time": "2024-03-04T16:43:44.736651Z",
     "start_time": "2024-03-04T16:41:21.187721Z"
    },
    "collapsed": false
   },
   "outputs": [
    {
     "name": "stdout",
     "output_type": "stream",
     "text": [
      "running in LOCAL mode\n"
     ]
    },
    {
     "data": {
      "text/html": [
       "<pre style=\"white-space:pre;overflow-x:auto;line-height:normal;font-family:Menlo,'DejaVu Sans Mono',consolas,'Courier New',monospace\">Created generator <a href=\"https://app.mostly.ai/d/generators/f00330aa-50d1-430c-9a69-1f2eba5a53d7\" target=\"_blank\"><span style=\"color: #000080; text-decoration-color: #000080; text-decoration: underline\">f00330aa-50d1-430c-9a69-1f2eba5a53d7</span></a>\n",
       "</pre>\n"
      ],
      "text/plain": [
       "Created generator \u001B]8;id=9574;https://app.mostly.ai/d/generators/f00330aa-50d1-430c-9a69-1f2eba5a53d7\u001B\\\u001B[4;34mf00330aa-50d1-430c-9a69-1f2eba5a53d7\u001B[0m\u001B]8;;\u001B\\\n"
      ]
     },
     "metadata": {},
     "output_type": "display_data"
    },
    {
     "data": {
      "text/html": [
       "<pre style=\"white-space:pre;overflow-x:auto;line-height:normal;font-family:Menlo,'DejaVu Sans Mono',consolas,'Courier New',monospace\">Started generator training\n",
       "</pre>\n"
      ],
      "text/plain": [
       "Started generator training\n"
      ]
     },
     "metadata": {},
     "output_type": "display_data"
    },
    {
     "data": {
      "application/vnd.jupyter.widget-view+json": {
       "model_id": "c3d83e71764e4dbb83f125285126bd4f",
       "version_major": 2,
       "version_minor": 0
      },
      "text/plain": [
       "Output()"
      ]
     },
     "metadata": {},
     "output_type": "display_data"
    },
    {
     "data": {
      "text/html": [
       "<pre style=\"white-space:pre;overflow-x:auto;line-height:normal;font-family:Menlo,'DejaVu Sans Mono',consolas,'Courier New',monospace\"></pre>\n"
      ],
      "text/plain": []
     },
     "metadata": {},
     "output_type": "display_data"
    },
    {
     "data": {
      "text/html": [
       "<pre style=\"white-space:pre;overflow-x:auto;line-height:normal;font-family:Menlo,'DejaVu Sans Mono',consolas,'Courier New',monospace\">\n",
       "</pre>\n"
      ],
      "text/plain": [
       "\n"
      ]
     },
     "metadata": {},
     "output_type": "display_data"
    },
    {
     "data": {
      "text/html": [
       "<pre style=\"white-space:pre;overflow-x:auto;line-height:normal;font-family:Menlo,'DejaVu Sans Mono',consolas,'Courier New',monospace\">🎉 <span style=\"color: #008000; text-decoration-color: #008000; font-weight: bold\">Your generator is ready!</span> Use it to create synthetic data. Share it so others can do the same.\n",
       "</pre>\n"
      ],
      "text/plain": [
       "🎉 \u001B[1;32mYour generator is ready!\u001B[0m Use it to create synthetic data. Share it so others can do the same.\n"
      ]
     },
     "metadata": {},
     "output_type": "display_data"
    },
    {
     "data": {
      "text/html": [
       "<pre style=\"white-space:pre;overflow-x:auto;line-height:normal;font-family:Menlo,'DejaVu Sans Mono',consolas,'Courier New',monospace\">Created synthetic dataset <a href=\"https://app.mostly.ai/d/synthetic-datasets/f4f587ac-07e1-4144-acb6-79c3deb434f7\" target=\"_blank\"><span style=\"color: #000080; text-decoration-color: #000080; text-decoration: underline\">f4f587ac-07e1-4144-acb6-79c3deb434f7</span></a> with generator <a href=\"https://app.mostly.ai/d/generators/f00330aa-50d1-430c-9a69-1f2eba5a53d7\" target=\"_blank\"><span style=\"color: #000080; text-decoration-color: #000080; text-decoration: underline\">f00330aa-50d1-430c-9a69-1f2eba5a53d7</span></a>\n",
       "</pre>\n"
      ],
      "text/plain": [
       "Created synthetic dataset \u001B]8;id=739588;https://app.mostly.ai/d/synthetic-datasets/f4f587ac-07e1-4144-acb6-79c3deb434f7\u001B\\\u001B[4;34mf4f587ac-07e1-4144-acb6-79c3deb434f7\u001B[0m\u001B]8;;\u001B\\ with generator \u001B]8;id=653934;https://app.mostly.ai/d/generators/f00330aa-50d1-430c-9a69-1f2eba5a53d7\u001B\\\u001B[4;34mf00330aa-50d1-430c-9a69-1f2eba5a53d7\u001B[0m\u001B]8;;\u001B\\\n"
      ]
     },
     "metadata": {},
     "output_type": "display_data"
    },
    {
     "data": {
      "text/html": [
       "<pre style=\"white-space:pre;overflow-x:auto;line-height:normal;font-family:Menlo,'DejaVu Sans Mono',consolas,'Courier New',monospace\">Started synthetic dataset generation\n",
       "</pre>\n"
      ],
      "text/plain": [
       "Started synthetic dataset generation\n"
      ]
     },
     "metadata": {},
     "output_type": "display_data"
    },
    {
     "data": {
      "application/vnd.jupyter.widget-view+json": {
       "model_id": "bfcb91e0b4894d46bf42d52ef408846b",
       "version_major": 2,
       "version_minor": 0
      },
      "text/plain": [
       "Output()"
      ]
     },
     "metadata": {},
     "output_type": "display_data"
    },
    {
     "data": {
      "text/html": [
       "<pre style=\"white-space:pre;overflow-x:auto;line-height:normal;font-family:Menlo,'DejaVu Sans Mono',consolas,'Courier New',monospace\"></pre>\n"
      ],
      "text/plain": []
     },
     "metadata": {},
     "output_type": "display_data"
    },
    {
     "data": {
      "text/html": [
       "<pre style=\"white-space:pre;overflow-x:auto;line-height:normal;font-family:Menlo,'DejaVu Sans Mono',consolas,'Courier New',monospace\">\n",
       "</pre>\n"
      ],
      "text/plain": [
       "\n"
      ]
     },
     "metadata": {},
     "output_type": "display_data"
    },
    {
     "data": {
      "text/html": [
       "<pre style=\"white-space:pre;overflow-x:auto;line-height:normal;font-family:Menlo,'DejaVu Sans Mono',consolas,'Courier New',monospace\">🎉 <span style=\"color: #008000; text-decoration-color: #008000; font-weight: bold\">Your synthetic dataset is ready!</span> Use it to consume the generated data. Share it so others can do the same.\n",
       "</pre>\n"
      ],
      "text/plain": [
       "🎉 \u001B[1;32mYour synthetic dataset is ready!\u001B[0m Use it to consume the generated data. Share it so others can do the same.\n"
      ]
     },
     "metadata": {},
     "output_type": "display_data"
    },
    {
     "name": "stdout",
     "output_type": "stream",
     "text": [
      "Created synthetic data with 39,074 records and 15 attributes\n",
      "fetched training data with 39,074 records and 15 attributes\n",
      "fetched holdout data with 9,768 records and 15 attributes\n"
     ]
    }
   ],
   "source": [
    "from mostlyai import MostlyAI\n",
    "import pandas as pd\n",
    "\n",
    "try:\n",
    "    # check whether we are in Google colab\n",
    "    from google.colab import files\n",
    "    print(\"running in COLAB mode\")\n",
    "    repo = 'https://github.com/mostly-ai/mostly-tutorials/raw/dev/train-synthetic-test-real'\n",
    "except:\n",
    "    print(\"running in LOCAL mode\")\n",
    "    repo = '.'\n",
    " \n",
    "# initialize client\n",
    "mostly = MostlyAI(\n",
    "    api_key='INSERT_YOUR_API_KEY', \n",
    "    base_url='https://app.mostly.ai'\n",
    ")\n",
    " \n",
    "# train a generator\n",
    "g = mostly.train(\n",
    "    data='https://github.com/mostly-ai/mostly-tutorials/raw/dev/train-synthetic-test-real/census-training.csv'\n",
    ")\n",
    " \n",
    "# generate a synthetic dataset\n",
    "sd = mostly.generate(g)\n",
    " \n",
    "# start using it\n",
    "syn = sd.data()\n",
    "print(f\"Created synthetic data with {syn.shape[0]:,} records and {syn.shape[1]:,} attributes\")\n",
    "\n",
    "# fetch training and holdout data\n",
    "train = pd.read_csv(f'{repo}/census-training.csv')\n",
    "print(f'fetched training data with {train.shape[0]:,} records and {train.shape[1]} attributes')\n",
    "holdout = pd.read_csv(f'{repo}/census-holdout.csv')\n",
    "print(f'fetched holdout data with {holdout.shape[0]:,} records and {holdout.shape[1]} attributes')"
   ]
  },
  {
   "cell_type": "markdown",
   "metadata": {},
   "source": [
    "## Explore Synthetic Data\n",
    "\n",
    "Show 10 randomly sampled synthetic records. Note, that you can execute the following cell multiple times, to see different samples."
   ]
  },
  {
   "cell_type": "code",
   "execution_count": 2,
   "metadata": {
    "ExecuteTime": {
     "end_time": "2024-03-04T16:46:03.515106Z",
     "start_time": "2024-03-04T16:46:03.485987Z"
    },
    "tags": []
   },
   "outputs": [
    {
     "data": {
      "text/html": [
       "<div>\n",
       "<style scoped>\n",
       "    .dataframe tbody tr th:only-of-type {\n",
       "        vertical-align: middle;\n",
       "    }\n",
       "\n",
       "    .dataframe tbody tr th {\n",
       "        vertical-align: top;\n",
       "    }\n",
       "\n",
       "    .dataframe thead th {\n",
       "        text-align: right;\n",
       "    }\n",
       "</style>\n",
       "<table border=\"1\" class=\"dataframe\">\n",
       "  <thead>\n",
       "    <tr style=\"text-align: right;\">\n",
       "      <th></th>\n",
       "      <th>age</th>\n",
       "      <th>workclass</th>\n",
       "      <th>fnlwgt</th>\n",
       "      <th>education</th>\n",
       "      <th>education_num</th>\n",
       "      <th>marital_status</th>\n",
       "      <th>occupation</th>\n",
       "      <th>relationship</th>\n",
       "      <th>race</th>\n",
       "      <th>sex</th>\n",
       "      <th>capital_gain</th>\n",
       "      <th>capital_loss</th>\n",
       "      <th>hours_per_week</th>\n",
       "      <th>native_country</th>\n",
       "      <th>income</th>\n",
       "    </tr>\n",
       "  </thead>\n",
       "  <tbody>\n",
       "    <tr>\n",
       "      <th>209</th>\n",
       "      <td>55</td>\n",
       "      <td>?</td>\n",
       "      <td>65110</td>\n",
       "      <td>Some-college</td>\n",
       "      <td>10</td>\n",
       "      <td>Married-civ-spouse</td>\n",
       "      <td>?</td>\n",
       "      <td>Husband</td>\n",
       "      <td>White</td>\n",
       "      <td>Male</td>\n",
       "      <td>0</td>\n",
       "      <td>0</td>\n",
       "      <td>40</td>\n",
       "      <td>United-States</td>\n",
       "      <td>&gt;50K</td>\n",
       "    </tr>\n",
       "    <tr>\n",
       "      <th>16593</th>\n",
       "      <td>22</td>\n",
       "      <td>Private</td>\n",
       "      <td>187902</td>\n",
       "      <td>Some-college</td>\n",
       "      <td>10</td>\n",
       "      <td>Never-married</td>\n",
       "      <td>Adm-clerical</td>\n",
       "      <td>Own-child</td>\n",
       "      <td>Black</td>\n",
       "      <td>Female</td>\n",
       "      <td>0</td>\n",
       "      <td>0</td>\n",
       "      <td>15</td>\n",
       "      <td>United-States</td>\n",
       "      <td>&lt;=50K</td>\n",
       "    </tr>\n",
       "    <tr>\n",
       "      <th>17540</th>\n",
       "      <td>34</td>\n",
       "      <td>Private</td>\n",
       "      <td>274302</td>\n",
       "      <td>Some-college</td>\n",
       "      <td>10</td>\n",
       "      <td>Married-civ-spouse</td>\n",
       "      <td>Sales</td>\n",
       "      <td>Husband</td>\n",
       "      <td>White</td>\n",
       "      <td>Male</td>\n",
       "      <td>0</td>\n",
       "      <td>0</td>\n",
       "      <td>32</td>\n",
       "      <td>United-States</td>\n",
       "      <td>&lt;=50K</td>\n",
       "    </tr>\n",
       "    <tr>\n",
       "      <th>28143</th>\n",
       "      <td>51</td>\n",
       "      <td>Private</td>\n",
       "      <td>122399</td>\n",
       "      <td>HS-grad</td>\n",
       "      <td>9</td>\n",
       "      <td>Married-civ-spouse</td>\n",
       "      <td>Other-service</td>\n",
       "      <td>Husband</td>\n",
       "      <td>White</td>\n",
       "      <td>Male</td>\n",
       "      <td>0</td>\n",
       "      <td>0</td>\n",
       "      <td>80</td>\n",
       "      <td>United-States</td>\n",
       "      <td>&lt;=50K</td>\n",
       "    </tr>\n",
       "    <tr>\n",
       "      <th>5148</th>\n",
       "      <td>34</td>\n",
       "      <td>Private</td>\n",
       "      <td>200162</td>\n",
       "      <td>Assoc-voc</td>\n",
       "      <td>11</td>\n",
       "      <td>Never-married</td>\n",
       "      <td>Sales</td>\n",
       "      <td>Other-relative</td>\n",
       "      <td>White</td>\n",
       "      <td>Female</td>\n",
       "      <td>0</td>\n",
       "      <td>0</td>\n",
       "      <td>40</td>\n",
       "      <td>United-States</td>\n",
       "      <td>&lt;=50K</td>\n",
       "    </tr>\n",
       "    <tr>\n",
       "      <th>37392</th>\n",
       "      <td>28</td>\n",
       "      <td>Private</td>\n",
       "      <td>79176</td>\n",
       "      <td>HS-grad</td>\n",
       "      <td>9</td>\n",
       "      <td>Divorced</td>\n",
       "      <td>Transport-moving</td>\n",
       "      <td>Not-in-family</td>\n",
       "      <td>White</td>\n",
       "      <td>Male</td>\n",
       "      <td>0</td>\n",
       "      <td>0</td>\n",
       "      <td>40</td>\n",
       "      <td>United-States</td>\n",
       "      <td>&lt;=50K</td>\n",
       "    </tr>\n",
       "    <tr>\n",
       "      <th>3119</th>\n",
       "      <td>23</td>\n",
       "      <td>Private</td>\n",
       "      <td>196539</td>\n",
       "      <td>Some-college</td>\n",
       "      <td>10</td>\n",
       "      <td>Never-married</td>\n",
       "      <td>Other-service</td>\n",
       "      <td>Own-child</td>\n",
       "      <td>White</td>\n",
       "      <td>Male</td>\n",
       "      <td>0</td>\n",
       "      <td>0</td>\n",
       "      <td>20</td>\n",
       "      <td>United-States</td>\n",
       "      <td>&lt;=50K</td>\n",
       "    </tr>\n",
       "    <tr>\n",
       "      <th>14244</th>\n",
       "      <td>50</td>\n",
       "      <td>Local-gov</td>\n",
       "      <td>196276</td>\n",
       "      <td>Bachelors</td>\n",
       "      <td>13</td>\n",
       "      <td>Married-civ-spouse</td>\n",
       "      <td>Prof-specialty</td>\n",
       "      <td>Husband</td>\n",
       "      <td>White</td>\n",
       "      <td>Male</td>\n",
       "      <td>18796</td>\n",
       "      <td>0</td>\n",
       "      <td>40</td>\n",
       "      <td>United-States</td>\n",
       "      <td>&gt;50K</td>\n",
       "    </tr>\n",
       "    <tr>\n",
       "      <th>24694</th>\n",
       "      <td>28</td>\n",
       "      <td>Local-gov</td>\n",
       "      <td>333448</td>\n",
       "      <td>HS-grad</td>\n",
       "      <td>9</td>\n",
       "      <td>Never-married</td>\n",
       "      <td>Other-service</td>\n",
       "      <td>Not-in-family</td>\n",
       "      <td>White</td>\n",
       "      <td>Male</td>\n",
       "      <td>0</td>\n",
       "      <td>0</td>\n",
       "      <td>36</td>\n",
       "      <td>United-States</td>\n",
       "      <td>&lt;=50K</td>\n",
       "    </tr>\n",
       "    <tr>\n",
       "      <th>33494</th>\n",
       "      <td>33</td>\n",
       "      <td>Private</td>\n",
       "      <td>285397</td>\n",
       "      <td>Bachelors</td>\n",
       "      <td>13</td>\n",
       "      <td>Never-married</td>\n",
       "      <td>Adm-clerical</td>\n",
       "      <td>Unmarried</td>\n",
       "      <td>White</td>\n",
       "      <td>Female</td>\n",
       "      <td>0</td>\n",
       "      <td>0</td>\n",
       "      <td>40</td>\n",
       "      <td>Puerto-Rico</td>\n",
       "      <td>&lt;=50K</td>\n",
       "    </tr>\n",
       "  </tbody>\n",
       "</table>\n",
       "</div>"
      ],
      "text/plain": [
       "       age  workclass  fnlwgt     education  education_num  \\\n",
       "209     55          ?   65110  Some-college             10   \n",
       "16593   22    Private  187902  Some-college             10   \n",
       "17540   34    Private  274302  Some-college             10   \n",
       "28143   51    Private  122399       HS-grad              9   \n",
       "5148    34    Private  200162     Assoc-voc             11   \n",
       "37392   28    Private   79176       HS-grad              9   \n",
       "3119    23    Private  196539  Some-college             10   \n",
       "14244   50  Local-gov  196276     Bachelors             13   \n",
       "24694   28  Local-gov  333448       HS-grad              9   \n",
       "33494   33    Private  285397     Bachelors             13   \n",
       "\n",
       "           marital_status        occupation    relationship   race     sex  \\\n",
       "209    Married-civ-spouse                 ?         Husband  White    Male   \n",
       "16593       Never-married      Adm-clerical       Own-child  Black  Female   \n",
       "17540  Married-civ-spouse             Sales         Husband  White    Male   \n",
       "28143  Married-civ-spouse     Other-service         Husband  White    Male   \n",
       "5148        Never-married             Sales  Other-relative  White  Female   \n",
       "37392            Divorced  Transport-moving   Not-in-family  White    Male   \n",
       "3119        Never-married     Other-service       Own-child  White    Male   \n",
       "14244  Married-civ-spouse    Prof-specialty         Husband  White    Male   \n",
       "24694       Never-married     Other-service   Not-in-family  White    Male   \n",
       "33494       Never-married      Adm-clerical       Unmarried  White  Female   \n",
       "\n",
       "       capital_gain  capital_loss  hours_per_week native_country income  \n",
       "209               0             0              40  United-States   >50K  \n",
       "16593             0             0              15  United-States  <=50K  \n",
       "17540             0             0              32  United-States  <=50K  \n",
       "28143             0             0              80  United-States  <=50K  \n",
       "5148              0             0              40  United-States  <=50K  \n",
       "37392             0             0              40  United-States  <=50K  \n",
       "3119              0             0              20  United-States  <=50K  \n",
       "14244         18796             0              40  United-States   >50K  \n",
       "24694             0             0              36  United-States  <=50K  \n",
       "33494             0             0              40    Puerto-Rico  <=50K  "
      ]
     },
     "execution_count": 2,
     "metadata": {},
     "output_type": "execute_result"
    }
   ],
   "source": [
    "syn.sample(n=10)"
   ]
  },
  {
   "cell_type": "markdown",
   "metadata": {},
   "source": [
    "Show 5 randomly sampled Female Professors of age 30 or younger."
   ]
  },
  {
   "cell_type": "code",
   "execution_count": 3,
   "metadata": {
    "ExecuteTime": {
     "end_time": "2024-03-04T16:46:05.959842Z",
     "start_time": "2024-03-04T16:46:05.944168Z"
    },
    "tags": []
   },
   "outputs": [
    {
     "data": {
      "text/html": [
       "<div>\n",
       "<style scoped>\n",
       "    .dataframe tbody tr th:only-of-type {\n",
       "        vertical-align: middle;\n",
       "    }\n",
       "\n",
       "    .dataframe tbody tr th {\n",
       "        vertical-align: top;\n",
       "    }\n",
       "\n",
       "    .dataframe thead th {\n",
       "        text-align: right;\n",
       "    }\n",
       "</style>\n",
       "<table border=\"1\" class=\"dataframe\">\n",
       "  <thead>\n",
       "    <tr style=\"text-align: right;\">\n",
       "      <th></th>\n",
       "      <th>age</th>\n",
       "      <th>workclass</th>\n",
       "      <th>fnlwgt</th>\n",
       "      <th>education</th>\n",
       "      <th>education_num</th>\n",
       "      <th>marital_status</th>\n",
       "      <th>occupation</th>\n",
       "      <th>relationship</th>\n",
       "      <th>race</th>\n",
       "      <th>sex</th>\n",
       "      <th>capital_gain</th>\n",
       "      <th>capital_loss</th>\n",
       "      <th>hours_per_week</th>\n",
       "      <th>native_country</th>\n",
       "      <th>income</th>\n",
       "    </tr>\n",
       "  </thead>\n",
       "  <tbody>\n",
       "    <tr>\n",
       "      <th>33110</th>\n",
       "      <td>28</td>\n",
       "      <td>Private</td>\n",
       "      <td>21028</td>\n",
       "      <td>Prof-school</td>\n",
       "      <td>15</td>\n",
       "      <td>Never-married</td>\n",
       "      <td>Tech-support</td>\n",
       "      <td>Not-in-family</td>\n",
       "      <td>White</td>\n",
       "      <td>Female</td>\n",
       "      <td>0</td>\n",
       "      <td>0</td>\n",
       "      <td>50</td>\n",
       "      <td>United-States</td>\n",
       "      <td>&lt;=50K</td>\n",
       "    </tr>\n",
       "    <tr>\n",
       "      <th>31002</th>\n",
       "      <td>30</td>\n",
       "      <td>Private</td>\n",
       "      <td>159369</td>\n",
       "      <td>Prof-school</td>\n",
       "      <td>15</td>\n",
       "      <td>Never-married</td>\n",
       "      <td>Prof-specialty</td>\n",
       "      <td>Own-child</td>\n",
       "      <td>White</td>\n",
       "      <td>Female</td>\n",
       "      <td>0</td>\n",
       "      <td>0</td>\n",
       "      <td>15</td>\n",
       "      <td>United-States</td>\n",
       "      <td>&lt;=50K</td>\n",
       "    </tr>\n",
       "    <tr>\n",
       "      <th>21531</th>\n",
       "      <td>30</td>\n",
       "      <td>Private</td>\n",
       "      <td>159370</td>\n",
       "      <td>Prof-school</td>\n",
       "      <td>15</td>\n",
       "      <td>Divorced</td>\n",
       "      <td>Prof-specialty</td>\n",
       "      <td>Not-in-family</td>\n",
       "      <td>White</td>\n",
       "      <td>Female</td>\n",
       "      <td>0</td>\n",
       "      <td>0</td>\n",
       "      <td>50</td>\n",
       "      <td>United-States</td>\n",
       "      <td>&gt;50K</td>\n",
       "    </tr>\n",
       "    <tr>\n",
       "      <th>18089</th>\n",
       "      <td>27</td>\n",
       "      <td>Private</td>\n",
       "      <td>214918</td>\n",
       "      <td>Prof-school</td>\n",
       "      <td>15</td>\n",
       "      <td>Never-married</td>\n",
       "      <td>Prof-specialty</td>\n",
       "      <td>Not-in-family</td>\n",
       "      <td>White</td>\n",
       "      <td>Female</td>\n",
       "      <td>0</td>\n",
       "      <td>0</td>\n",
       "      <td>55</td>\n",
       "      <td>United-States</td>\n",
       "      <td>&gt;50K</td>\n",
       "    </tr>\n",
       "    <tr>\n",
       "      <th>32374</th>\n",
       "      <td>23</td>\n",
       "      <td>Private</td>\n",
       "      <td>201298</td>\n",
       "      <td>Prof-school</td>\n",
       "      <td>15</td>\n",
       "      <td>Never-married</td>\n",
       "      <td>Prof-specialty</td>\n",
       "      <td>Unmarried</td>\n",
       "      <td>White</td>\n",
       "      <td>Female</td>\n",
       "      <td>0</td>\n",
       "      <td>0</td>\n",
       "      <td>50</td>\n",
       "      <td>United-States</td>\n",
       "      <td>&lt;=50K</td>\n",
       "    </tr>\n",
       "  </tbody>\n",
       "</table>\n",
       "</div>"
      ],
      "text/plain": [
       "       age workclass  fnlwgt    education  education_num marital_status  \\\n",
       "33110   28   Private   21028  Prof-school             15  Never-married   \n",
       "31002   30   Private  159369  Prof-school             15  Never-married   \n",
       "21531   30   Private  159370  Prof-school             15       Divorced   \n",
       "18089   27   Private  214918  Prof-school             15  Never-married   \n",
       "32374   23   Private  201298  Prof-school             15  Never-married   \n",
       "\n",
       "           occupation   relationship   race     sex  capital_gain  \\\n",
       "33110    Tech-support  Not-in-family  White  Female             0   \n",
       "31002  Prof-specialty      Own-child  White  Female             0   \n",
       "21531  Prof-specialty  Not-in-family  White  Female             0   \n",
       "18089  Prof-specialty  Not-in-family  White  Female             0   \n",
       "32374  Prof-specialty      Unmarried  White  Female             0   \n",
       "\n",
       "       capital_loss  hours_per_week native_country income  \n",
       "33110             0              50  United-States  <=50K  \n",
       "31002             0              15  United-States  <=50K  \n",
       "21531             0              50  United-States   >50K  \n",
       "18089             0              55  United-States   >50K  \n",
       "32374             0              50  United-States  <=50K  "
      ]
     },
     "execution_count": 3,
     "metadata": {},
     "output_type": "execute_result"
    }
   ],
   "source": [
    "syn.loc[(syn[\"sex\"]==\"Female\") & (syn[\"education\"]==\"Prof-school\") & (syn[\"age\"]<=30)].sample(n=5)"
   ]
  },
  {
   "cell_type": "markdown",
   "metadata": {},
   "source": [
    "Count low-income (<=50K) and high-income (>50K) records within the synhetic sample."
   ]
  },
  {
   "cell_type": "code",
   "execution_count": 4,
   "metadata": {
    "ExecuteTime": {
     "end_time": "2024-03-04T16:46:07.425237Z",
     "start_time": "2024-03-04T16:46:07.415740Z"
    },
    "tags": []
   },
   "outputs": [
    {
     "data": {
      "text/plain": [
       "income\n",
       "<=50K    29664\n",
       ">50K      9410\n",
       "Name: count, dtype: Int64"
      ]
     },
     "execution_count": 4,
     "metadata": {},
     "output_type": "execute_result"
    }
   ],
   "source": [
    "syn['income'].value_counts()"
   ]
  },
  {
   "cell_type": "markdown",
   "metadata": {
    "tags": []
   },
   "source": [
    "Count low-income and high-income records among the group of non-US citizen, that have been divorced."
   ]
  },
  {
   "cell_type": "code",
   "execution_count": 5,
   "metadata": {
    "ExecuteTime": {
     "end_time": "2024-03-04T16:46:09.020547Z",
     "start_time": "2024-03-04T16:46:09.006756Z"
    },
    "tags": []
   },
   "outputs": [
    {
     "data": {
      "text/plain": [
       "income\n",
       "<=50K    368\n",
       ">50K      52\n",
       "Name: count, dtype: Int64"
      ]
     },
     "execution_count": 5,
     "metadata": {},
     "output_type": "execute_result"
    }
   ],
   "source": [
    "syn.loc[(syn[\"native_country\"]!=\"United-States\") & (syn[\"marital_status\"]==\"Divorced\")]['income'].value_counts()"
   ]
  },
  {
   "cell_type": "markdown",
   "metadata": {
    "id": "OgvJ0XoWTHoX"
   },
   "source": [
    "## Compare ML Performance\n",
    "\n",
    "Let's now train a state-of-the-art **LightGBM** classifier on top of the synthetic data, to then check how well it can predict whether an actual person reported an annual income of more than $50K or not. We will then compare the predictive accuracy to a model, that has been trained on the actual data, and see whether we were able to achieve a similar performance purely based on the synthetic data."
   ]
  },
  {
   "cell_type": "code",
   "execution_count": 8,
   "metadata": {
    "ExecuteTime": {
     "end_time": "2024-03-04T16:46:10.767340Z",
     "start_time": "2024-03-04T16:46:10.715898Z"
    },
    "id": "Rl6-YXB_e0Ac",
    "tags": []
   },
   "outputs": [],
   "source": [
    "import lightgbm as lgb\n",
    "from lightgbm import early_stopping\n",
    "from sklearn.model_selection import train_test_split\n",
    "from sklearn.metrics import roc_auc_score, accuracy_score\n",
    "import seaborn as sns\n",
    "import matplotlib.pyplot as plt\n",
    "plt.rcParams['figure.dpi'] = 72\n",
    "\n",
    "target_col = 'income'\n",
    "target_val = '>50K'\n",
    "\n",
    "def prepare_xy(df):\n",
    "    y = (df[target_col]==target_val).astype(int)\n",
    "    str_cols = [col for col in df.select_dtypes(['object', 'string']).columns if col != target_col]\n",
    "    for col in str_cols:\n",
    "        df[col] = pd.Categorical(df[col])\n",
    "    cat_cols = [col for col in df.select_dtypes('category').columns if col != target_col]\n",
    "    num_cols = [col for col in df.select_dtypes('number').columns if col != target_col]\n",
    "    for col in num_cols:\n",
    "        df[col] = df[col].astype('float')\n",
    "    X = df[cat_cols + num_cols]\n",
    "    return X, y\n",
    "\n",
    "def train_model(X, y):\n",
    "    cat_cols = list(X.select_dtypes('category').columns)\n",
    "    X_trn, X_val, y_trn, y_val = train_test_split(X, y, test_size=0.2, random_state=1)\n",
    "    ds_trn = lgb.Dataset(X_trn, label=y_trn, categorical_feature=cat_cols, free_raw_data=False)\n",
    "    ds_val = lgb.Dataset(X_val, label=y_val, categorical_feature=cat_cols, free_raw_data=False)\n",
    "    model = lgb.train(\n",
    "        params={\n",
    "            'verbose': -1,\n",
    "            'metric': 'auc',  \n",
    "            'objective': 'binary'\n",
    "        }, \n",
    "        train_set=ds_trn,\n",
    "        valid_sets=[ds_val],\n",
    "        callbacks=[early_stopping(5)],\n",
    "    )\n",
    "    return model\n",
    "\n",
    "def evaluate_model(model, hol):\n",
    "    X_hol, y_hol = prepare_xy(hol)\n",
    "    probs = model.predict(X_hol)\n",
    "    preds = (probs >= 0.5).astype(int)\n",
    "    auc = roc_auc_score(y_hol, probs)\n",
    "    acc = accuracy_score(y_hol, preds)\n",
    "    probs_df = pd.concat([\n",
    "        pd.Series(probs, name='probability').reset_index(drop=True),\n",
    "        pd.Series(y_hol, name=target_col).reset_index(drop=True)\n",
    "    ], axis=1)\n",
    "    sns.displot(data=probs_df, x='probability', hue=target_col, bins=20, multiple=\"stack\")\n",
    "    plt.title(f\"Accuracy: {acc:.1%}, AUC: {auc:.1%}\", fontsize=20)\n",
    "    plt.show()\n",
    "    return auc\n",
    "\n",
    "import warnings\n",
    "warnings.filterwarnings('ignore')"
   ]
  },
  {
   "cell_type": "markdown",
   "metadata": {
    "id": "WDK1Jr_xhBnl"
   },
   "source": [
    "### Train a Model on Synthetic Data - Test on Real Data\n",
    "\n",
    "We train the LightGBM on synthetic data, and then evaluate its performance on holdout data. We report two performance metrics: \n",
    "1. **Accuracy**: This is the probability to correctly predict the `income` class of a randomly selected record.\n",
    "2. **AUC** (Area-Under-Curve): This is the probability to correctly predict the `income` class, if two records, one of high-income and one of low-income are given.\n",
    "\n",
    "Whereas the Accuracy informs about the overall ability to get the class attribution correct, the AUC specifically informs about the ability to properly rank records, with respect to their probability of being within the target class or not. In both cases, the higher the metric, the better the predictive accuracy of the model.\n",
    "\n",
    "The displayed chart shows the distribution of scores, that the model assigned to each of the holdout records. A score close to 0 means that model is very confident, that the record is of low income. A score close to 1 means that the model is very confident that it's a high income record. These scores are further split by their actual outcome, i.e. whether they are or are not actually high income. This allows to visually inspect the model's confidence in assigning the right scores."
   ]
  },
  {
   "cell_type": "code",
   "execution_count": 9,
   "metadata": {
    "colab": {
     "base_uri": "https://localhost:8080/"
    },
    "id": "14CMIhcvgQ77",
    "outputId": "f8f46533-b092-4ec7-8ecd-c2f5c51961ec",
    "tags": []
   },
   "outputs": [
    {
     "name": "stdout",
     "output_type": "stream",
     "text": [
      "Training until validation scores don't improve for 5 rounds\n",
      "Early stopping, best iteration is:\n",
      "[48]\tvalid_0's auc: 0.927659\n"
     ]
    },
    {
     "data": {
      "image/png": "[encoded data removed]",
      "text/plain": [
       "<Figure size 404.5x360 with 1 Axes>"
      ]
     },
     "metadata": {},
     "output_type": "display_data"
    }
   ],
   "source": [
    "# prepare synthetic data, and split into features `X` and target `y`\n",
    "X_syn, y_syn = prepare_xy(syn)\n",
    "# train ML model on synthetic data with early stopping to prevent overfitting\n",
    "model_syn = train_model(X_syn, y_syn)\n",
    "# evaluate trained model on original holdout data\n",
    "auc_syn = evaluate_model(model_syn, holdout)"
   ]
  },
  {
   "cell_type": "markdown",
   "metadata": {
    "id": "TlKk4PLmB-0b"
   },
   "source": [
    "### Train a Model on Real Data - Test on Real Data\n",
    "\n",
    "Let's now compare these results achieved on synthetic data, with a model trained on real data. For a very good synthesizer, we expect to see a predictive performance of the two models being close to each other."
   ]
  },
  {
   "cell_type": "code",
   "execution_count": 10,
   "metadata": {
    "colab": {
     "base_uri": "https://localhost:8080/"
    },
    "id": "ZtQiGZdyCB72",
    "outputId": "fb0fa7ad-c3f3-4d8a-d907-a7248e770e6d",
    "tags": []
   },
   "outputs": [
    {
     "name": "stdout",
     "output_type": "stream",
     "text": [
      "Training until validation scores don't improve for 5 rounds\n",
      "Early stopping, best iteration is:\n",
      "[92]\tvalid_0's auc: 0.929897\n"
     ]
    },
    {
     "data": {
      "image/png": "[encoded data removed]",
      "text/plain": [
       "<Figure size 404.5x360 with 1 Axes>"
      ]
     },
     "metadata": {},
     "output_type": "display_data"
    }
   ],
   "source": [
    "# prepare original training data, and split into features `X` and target `y`\n",
    "X_trn, y_trn = prepare_xy(train)\n",
    "# train ML model on original training data with early stopping to prevent overfitting\n",
    "model_trn = train_model(X_trn, y_trn)\n",
    "# evaluate trained model on original holdout data\n",
    "auc_trn = evaluate_model(model_trn, holdout)"
   ]
  },
  {
   "cell_type": "markdown",
   "metadata": {
    "id": "UMGNussThvys"
   },
   "source": [
    "## Conclusion\n",
    "\n",
    "For the given dataset, and the given synthesizer, we can observe a near on-par performance of the synthetic data with respect to the given downstream ML task. This means, that one can train the model purely on synthetic data, and yield just as good results as if it were trained on real data, but without ever putting the privacy of any of the contained individuals at any risk.\n",
    "\n",
    "## Further exercises\n",
    "\n",
    "In addition to walking through the above instructions, we suggest..\n",
    "* to run Train-Synthetic-Test-Real \n",
    "  * using a different dataset, eg. the UCI bank-marketing dataset [[4](#refs)]\n",
    "  * using a different downstream ML model, eg. a RandomForest model [[5](#refs)]\n",
    "  * using a different synthesizer, eg. SynthCity, SDV, etc.\n",
    "* to check the impact of synthetic upsampling\n",
    "  * generate 10x or 100x the original data records, and see whether it improves ML accuracy"
   ]
  },
  {
   "cell_type": "markdown",
   "metadata": {},
   "source": [
    "## References<a class=\"anchor\" name=\"refs\"></a>\n",
    "\n",
    "1. https://arxiv.org/pdf/1706.02633.pdf §3.1.2\n",
    "1. https://archive.ics.uci.edu/ml/datasets/adult\n",
    "1. https://www.census.gov/programs-surveys/acs\n",
    "1. https://archive.ics.uci.edu/ml/datasets/bank+marketing\n",
    "1. https://scikit-learn.org/stable/modules/generated/sklearn.ensemble.RandomForestClassifier.html"
   ]
  },
  {
   "cell_type": "markdown",
   "metadata": {},
   "source": [
    "## Extras: Data Preparation\n",
    "\n",
    "The following code snippet can be used to split a DataFrame into a training and a holdout dataset. This is useful, if you run experiments on your own data."
   ]
  },
  {
   "cell_type": "code",
   "execution_count": 9,
   "metadata": {
    "tags": []
   },
   "outputs": [
    {
     "data": {
      "text/html": [
       "<div>\n",
       "<style scoped>\n",
       "    .dataframe tbody tr th:only-of-type {\n",
       "        vertical-align: middle;\n",
       "    }\n",
       "\n",
       "    .dataframe tbody tr th {\n",
       "        vertical-align: top;\n",
       "    }\n",
       "\n",
       "    .dataframe thead th {\n",
       "        text-align: right;\n",
       "    }\n",
       "</style>\n",
       "<table border=\"1\" class=\"dataframe\">\n",
       "  <thead>\n",
       "    <tr style=\"text-align: right;\">\n",
       "      <th></th>\n",
       "      <th>x</th>\n",
       "      <th>y</th>\n",
       "    </tr>\n",
       "  </thead>\n",
       "  <tbody>\n",
       "    <tr>\n",
       "      <th>6</th>\n",
       "      <td>6</td>\n",
       "      <td>16</td>\n",
       "    </tr>\n",
       "    <tr>\n",
       "      <th>4</th>\n",
       "      <td>4</td>\n",
       "      <td>14</td>\n",
       "    </tr>\n",
       "    <tr>\n",
       "      <th>0</th>\n",
       "      <td>0</td>\n",
       "      <td>10</td>\n",
       "    </tr>\n",
       "    <tr>\n",
       "      <th>3</th>\n",
       "      <td>3</td>\n",
       "      <td>13</td>\n",
       "    </tr>\n",
       "    <tr>\n",
       "      <th>1</th>\n",
       "      <td>1</td>\n",
       "      <td>11</td>\n",
       "    </tr>\n",
       "    <tr>\n",
       "      <th>7</th>\n",
       "      <td>7</td>\n",
       "      <td>17</td>\n",
       "    </tr>\n",
       "    <tr>\n",
       "      <th>8</th>\n",
       "      <td>8</td>\n",
       "      <td>18</td>\n",
       "    </tr>\n",
       "    <tr>\n",
       "      <th>5</th>\n",
       "      <td>5</td>\n",
       "      <td>15</td>\n",
       "    </tr>\n",
       "  </tbody>\n",
       "</table>\n",
       "</div>"
      ],
      "text/plain": [
       "   x   y\n",
       "6  6  16\n",
       "4  4  14\n",
       "0  0  10\n",
       "3  3  13\n",
       "1  1  11\n",
       "7  7  17\n",
       "8  8  18\n",
       "5  5  15"
      ]
     },
     "metadata": {},
     "output_type": "display_data"
    },
    {
     "data": {
      "text/html": [
       "<div>\n",
       "<style scoped>\n",
       "    .dataframe tbody tr th:only-of-type {\n",
       "        vertical-align: middle;\n",
       "    }\n",
       "\n",
       "    .dataframe tbody tr th {\n",
       "        vertical-align: top;\n",
       "    }\n",
       "\n",
       "    .dataframe thead th {\n",
       "        text-align: right;\n",
       "    }\n",
       "</style>\n",
       "<table border=\"1\" class=\"dataframe\">\n",
       "  <thead>\n",
       "    <tr style=\"text-align: right;\">\n",
       "      <th></th>\n",
       "      <th>x</th>\n",
       "      <th>y</th>\n",
       "    </tr>\n",
       "  </thead>\n",
       "  <tbody>\n",
       "    <tr>\n",
       "      <th>2</th>\n",
       "      <td>2</td>\n",
       "      <td>12</td>\n",
       "    </tr>\n",
       "    <tr>\n",
       "      <th>9</th>\n",
       "      <td>9</td>\n",
       "      <td>19</td>\n",
       "    </tr>\n",
       "  </tbody>\n",
       "</table>\n",
       "</div>"
      ],
      "text/plain": [
       "   x   y\n",
       "2  2  12\n",
       "9  9  19"
      ]
     },
     "metadata": {},
     "output_type": "display_data"
    }
   ],
   "source": [
    "from sklearn.model_selection import train_test_split\n",
    "\n",
    "df = pd.DataFrame({'x': range(10), 'y': range(10, 20)})\n",
    "df_trn, df_hol = train_test_split(df, test_size=0.2, random_state=1)\n",
    "display(df_trn)\n",
    "display(df_hol)"
   ]
  }
 ],
 "metadata": {
  "colab": {
   "provenance": []
  },
  "kernelspec": {
   "display_name": "Python 3 (ipykernel)",
   "language": "python",
   "name": "python3"
  },
  "language_info": {
   "codemirror_mode": {
    "name": "ipython",
    "version": 3
   },
   "file_extension": ".py",
   "mimetype": "text/x-python",
   "name": "python",
   "nbconvert_exporter": "python",
   "pygments_lexer": "ipython3",
   "version": "3.12.0"
  }
 },
 "nbformat": 4,
 "nbformat_minor": 4
}
