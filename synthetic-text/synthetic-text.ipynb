{
 "cells": [
  {
   "cell_type": "markdown",
   "metadata": {
    "id": "uUvsR-mWBoNS"
   },
   "source": [
    "# Synthetic Text Generation\n",
    "\n",
    "In this notebook, we demonstrate how to synthesize free text columns, and will furthermore explore its quality.\n",
    "\n",
    "For further background see also [this blog post](https://mostly.ai/blog/synthetic-data-for-text-annotation/) on \"How To Scale Up Your Text Annotation Initiatives with Synthetic Text\". We will be using a trimmed down version of a dataset containing AirBnB listings in London. This dataset can be downloaded in our public data repository [here](https://github.com/mostly-ai/public-demo-data/raw/dev/airbnb/london.csv.gz). The original data was downloaded from [Inside AirBnB](http://insideairbnb.com/get-the-data)."
   ]
  },
  {
   "cell_type": "markdown",
   "metadata": {
    "id": "MKRa93uuSqZS"
   },
   "source": [
    "## Synthesize Data via MOSTLY AI\n",
    "\n",
    "Please make sure to replace 'YOUR_API_KEY' with your actual API Key before running the code below."
   ]
  },
  {
   "cell_type": "code",
   "execution_count": 1,
   "metadata": {
    "colab": {
     "base_uri": "https://localhost:8080/",
     "height": 89
    },
    "id": "W4IDNOIyPW7L",
    "outputId": "413106b9-de23-441b-ae27-f6efe45085a6",
    "tags": []
   },
   "outputs": [
    {
     "name": "stdout",
     "output_type": "stream",
     "text": [
      "Read original data with 71,938 records and 6 attributes\n"
     ]
    },
    {
     "data": {
      "text/html": [
       "<div>\n",
       "<style scoped>\n",
       "    .dataframe tbody tr th:only-of-type {\n",
       "        vertical-align: middle;\n",
       "    }\n",
       "\n",
       "    .dataframe tbody tr th {\n",
       "        vertical-align: top;\n",
       "    }\n",
       "\n",
       "    .dataframe thead th {\n",
       "        text-align: right;\n",
       "    }\n",
       "</style>\n",
       "<table border=\"1\" class=\"dataframe\">\n",
       "  <thead>\n",
       "    <tr style=\"text-align: right;\">\n",
       "      <th></th>\n",
       "      <th>host_name</th>\n",
       "      <th>title</th>\n",
       "      <th>property_type</th>\n",
       "      <th>room_type</th>\n",
       "      <th>neighbourhood</th>\n",
       "      <th>price</th>\n",
       "    </tr>\n",
       "  </thead>\n",
       "  <tbody>\n",
       "    <tr>\n",
       "      <th>0</th>\n",
       "      <td>Alina</td>\n",
       "      <td>Holiday London DB Room Let-on going</td>\n",
       "      <td>Private room in rental unit</td>\n",
       "      <td>Private room</td>\n",
       "      <td>Islington</td>\n",
       "      <td>79</td>\n",
       "    </tr>\n",
       "    <tr>\n",
       "      <th>1</th>\n",
       "      <td>Philippa</td>\n",
       "      <td>Bright Chelsea  Apartment. Chelsea!</td>\n",
       "      <td>Entire rental unit</td>\n",
       "      <td>Entire home/apt</td>\n",
       "      <td>Kensington and Chelsea</td>\n",
       "      <td>75</td>\n",
       "    </tr>\n",
       "    <tr>\n",
       "      <th>2</th>\n",
       "      <td>Elinor</td>\n",
       "      <td>Nice double bedroom in NW London</td>\n",
       "      <td>Entire rental unit</td>\n",
       "      <td>Entire home/apt</td>\n",
       "      <td>Camden</td>\n",
       "      <td>229</td>\n",
       "    </tr>\n",
       "    <tr>\n",
       "      <th>3</th>\n",
       "      <td>Ingrid</td>\n",
       "      <td>The Residential Suite Above Gallery</td>\n",
       "      <td>Entire rental unit</td>\n",
       "      <td>Entire home/apt</td>\n",
       "      <td>Hackney</td>\n",
       "      <td>132</td>\n",
       "    </tr>\n",
       "    <tr>\n",
       "      <th>4</th>\n",
       "      <td>Agri &amp; Roger</td>\n",
       "      <td>You Will Save Money Here</td>\n",
       "      <td>Private room in home</td>\n",
       "      <td>Private room</td>\n",
       "      <td>Barnet</td>\n",
       "      <td>65</td>\n",
       "    </tr>\n",
       "    <tr>\n",
       "      <th>...</th>\n",
       "      <td>...</td>\n",
       "      <td>...</td>\n",
       "      <td>...</td>\n",
       "      <td>...</td>\n",
       "      <td>...</td>\n",
       "      <td>...</td>\n",
       "    </tr>\n",
       "    <tr>\n",
       "      <th>71933</th>\n",
       "      <td>Terry</td>\n",
       "      <td>Family escape / 6 adults. London</td>\n",
       "      <td>Entire home</td>\n",
       "      <td>Entire home/apt</td>\n",
       "      <td>Croydon</td>\n",
       "      <td>160</td>\n",
       "    </tr>\n",
       "    <tr>\n",
       "      <th>71934</th>\n",
       "      <td>Varun</td>\n",
       "      <td>Short stay in north-west London</td>\n",
       "      <td>Private room in rental unit</td>\n",
       "      <td>Private room</td>\n",
       "      <td>Harrow</td>\n",
       "      <td>59</td>\n",
       "    </tr>\n",
       "    <tr>\n",
       "      <th>71935</th>\n",
       "      <td>Santosh</td>\n",
       "      <td>Private room in Stratford</td>\n",
       "      <td>Private room in rental unit</td>\n",
       "      <td>Private room</td>\n",
       "      <td>Newham</td>\n",
       "      <td>36</td>\n",
       "    </tr>\n",
       "    <tr>\n",
       "      <th>71936</th>\n",
       "      <td>Emily</td>\n",
       "      <td>Fantastic 2bed Flat with Private Roof Terrace</td>\n",
       "      <td>Entire rental unit</td>\n",
       "      <td>Entire home/apt</td>\n",
       "      <td>Westminster</td>\n",
       "      <td>272</td>\n",
       "    </tr>\n",
       "    <tr>\n",
       "      <th>71937</th>\n",
       "      <td>Emily</td>\n",
       "      <td>Cozy 2 Bedroom Flat in Shepherds Bush</td>\n",
       "      <td>Entire rental unit</td>\n",
       "      <td>Entire home/apt</td>\n",
       "      <td>Hammersmith and Fulham</td>\n",
       "      <td>216</td>\n",
       "    </tr>\n",
       "  </tbody>\n",
       "</table>\n",
       "<p>71938 rows × 6 columns</p>\n",
       "</div>"
      ],
      "text/plain": [
       "          host_name                                          title  \\\n",
       "0             Alina            Holiday London DB Room Let-on going   \n",
       "1          Philippa            Bright Chelsea  Apartment. Chelsea!   \n",
       "2            Elinor               Nice double bedroom in NW London   \n",
       "3            Ingrid            The Residential Suite Above Gallery   \n",
       "4      Agri & Roger                       You Will Save Money Here   \n",
       "...             ...                                            ...   \n",
       "71933         Terry               Family escape / 6 adults. London   \n",
       "71934         Varun                Short stay in north-west London   \n",
       "71935       Santosh                      Private room in Stratford   \n",
       "71936         Emily  Fantastic 2bed Flat with Private Roof Terrace   \n",
       "71937         Emily          Cozy 2 Bedroom Flat in Shepherds Bush   \n",
       "\n",
       "                     property_type        room_type           neighbourhood  \\\n",
       "0      Private room in rental unit     Private room               Islington   \n",
       "1               Entire rental unit  Entire home/apt  Kensington and Chelsea   \n",
       "2               Entire rental unit  Entire home/apt                  Camden   \n",
       "3               Entire rental unit  Entire home/apt                 Hackney   \n",
       "4             Private room in home     Private room                  Barnet   \n",
       "...                            ...              ...                     ...   \n",
       "71933                  Entire home  Entire home/apt                 Croydon   \n",
       "71934  Private room in rental unit     Private room                  Harrow   \n",
       "71935  Private room in rental unit     Private room                  Newham   \n",
       "71936           Entire rental unit  Entire home/apt             Westminster   \n",
       "71937           Entire rental unit  Entire home/apt  Hammersmith and Fulham   \n",
       "\n",
       "       price  \n",
       "0         79  \n",
       "1         75  \n",
       "2        229  \n",
       "3        132  \n",
       "4         65  \n",
       "...      ...  \n",
       "71933    160  \n",
       "71934     59  \n",
       "71935     36  \n",
       "71936    272  \n",
       "71937    216  \n",
       "\n",
       "[71938 rows x 6 columns]"
      ]
     },
     "execution_count": 1,
     "metadata": {},
     "output_type": "execute_result"
    }
   ],
   "source": [
    "from mostlyai import MostlyAI\n",
    "import pandas as pd\n",
    "\n",
    "# initialize client\n",
    "mostly = MostlyAI(api_key='YOUR_API_KEY')\n",
    "\n",
    "# fetch original data\n",
    "tgt = pd.read_csv('https://github.com/mostly-ai/public-demo-data/raw/dev/airbnb/london.csv.gz')\n",
    "print(f\"Read original data with {tgt.shape[0]:,} records and {tgt.shape[1]:,} attributes\")\n",
    "tgt"
   ]
  },
  {
   "cell_type": "code",
   "execution_count": 2,
   "metadata": {},
   "outputs": [
    {
     "data": {
      "text/html": [
       "<pre style=\"white-space:pre;overflow-x:auto;line-height:normal;font-family:Menlo,'DejaVu Sans Mono',consolas,'Courier New',monospace\">Created generator <a href=\"https://app.mostly.ai/d/generators/9f9c80c5-cb44-4cad-af5a-a326f3e0ed67\" target=\"_blank\"><span style=\"color: #000080; text-decoration-color: #000080; text-decoration: underline\">9f9c80c5-cb44-4cad-af5a-a326f3e0ed67</span></a>\n",
       "</pre>\n"
      ],
      "text/plain": [
       "Created generator \u001b]8;id=750904;https://app.mostly.ai/d/generators/9f9c80c5-cb44-4cad-af5a-a326f3e0ed67\u001b\\\u001b[4;34m9f9c80c5-cb44-4cad-af5a-a326f3e0ed67\u001b[0m\u001b]8;;\u001b\\\n"
      ]
     },
     "metadata": {},
     "output_type": "display_data"
    },
    {
     "data": {
      "text/html": [
       "<pre style=\"white-space:pre;overflow-x:auto;line-height:normal;font-family:Menlo,'DejaVu Sans Mono',consolas,'Courier New',monospace\">Started generator training\n",
       "</pre>\n"
      ],
      "text/plain": [
       "Started generator training\n"
      ]
     },
     "metadata": {},
     "output_type": "display_data"
    },
    {
     "data": {
      "application/vnd.jupyter.widget-view+json": {
       "model_id": "1a3ebb99fcf24671ae912c851e0779cc",
       "version_major": 2,
       "version_minor": 0
      },
      "text/plain": [
       "Output()"
      ]
     },
     "metadata": {},
     "output_type": "display_data"
    },
    {
     "data": {
      "text/html": [
       "<pre style=\"white-space:pre;overflow-x:auto;line-height:normal;font-family:Menlo,'DejaVu Sans Mono',consolas,'Courier New',monospace\"></pre>\n"
      ],
      "text/plain": []
     },
     "metadata": {},
     "output_type": "display_data"
    },
    {
     "data": {
      "text/html": [
       "<pre style=\"white-space:pre;overflow-x:auto;line-height:normal;font-family:Menlo,'DejaVu Sans Mono',consolas,'Courier New',monospace\">\n",
       "</pre>\n"
      ],
      "text/plain": [
       "\n"
      ]
     },
     "metadata": {},
     "output_type": "display_data"
    },
    {
     "data": {
      "text/html": [
       "<pre style=\"white-space:pre;overflow-x:auto;line-height:normal;font-family:Menlo,'DejaVu Sans Mono',consolas,'Courier New',monospace\">🎉 <span style=\"color: #008000; text-decoration-color: #008000; font-weight: bold\">Your generator is ready!</span> Use it to create synthetic data. Share it so others can do the same.\n",
       "</pre>\n"
      ],
      "text/plain": [
       "🎉 \u001b[1;32mYour generator is ready!\u001b[0m Use it to create synthetic data. Share it so others can do the same.\n"
      ]
     },
     "metadata": {},
     "output_type": "display_data"
    },
    {
     "data": {
      "text/html": [
       "<pre style=\"white-space:pre;overflow-x:auto;line-height:normal;font-family:Menlo,'DejaVu Sans Mono',consolas,'Courier New',monospace\">Created synthetic dataset <a href=\"https://app.mostly.ai/d/synthetic-datasets/94e4001f-9128-4e69-8d41-37d261887a0f\" target=\"_blank\"><span style=\"color: #000080; text-decoration-color: #000080; text-decoration: underline\">94e4001f-9128-4e69-8d41-37d261887a0f</span></a> with generator <a href=\"https://app.mostly.ai/d/generators/9f9c80c5-cb44-4cad-af5a-a326f3e0ed67\" target=\"_blank\"><span style=\"color: #000080; text-decoration-color: #000080; text-decoration: underline\">9f9c80c5-cb44-4cad-af5a-a326f3e0ed67</span></a>\n",
       "</pre>\n"
      ],
      "text/plain": [
       "Created synthetic dataset \u001b]8;id=76577;https://app.mostly.ai/d/synthetic-datasets/94e4001f-9128-4e69-8d41-37d261887a0f\u001b\\\u001b[4;34m94e4001f-9128-4e69-8d41-37d261887a0f\u001b[0m\u001b]8;;\u001b\\ with generator \u001b]8;id=333439;https://app.mostly.ai/d/generators/9f9c80c5-cb44-4cad-af5a-a326f3e0ed67\u001b\\\u001b[4;34m9f9c80c5-cb44-4cad-af5a-a326f3e0ed67\u001b[0m\u001b]8;;\u001b\\\n"
      ]
     },
     "metadata": {},
     "output_type": "display_data"
    },
    {
     "data": {
      "text/html": [
       "<pre style=\"white-space:pre;overflow-x:auto;line-height:normal;font-family:Menlo,'DejaVu Sans Mono',consolas,'Courier New',monospace\">Started synthetic dataset generation\n",
       "</pre>\n"
      ],
      "text/plain": [
       "Started synthetic dataset generation\n"
      ]
     },
     "metadata": {},
     "output_type": "display_data"
    },
    {
     "data": {
      "application/vnd.jupyter.widget-view+json": {
       "model_id": "1d0713f8740d4a6b96081b02f9181f51",
       "version_major": 2,
       "version_minor": 0
      },
      "text/plain": [
       "Output()"
      ]
     },
     "metadata": {},
     "output_type": "display_data"
    },
    {
     "data": {
      "text/html": [
       "<pre style=\"white-space:pre;overflow-x:auto;line-height:normal;font-family:Menlo,'DejaVu Sans Mono',consolas,'Courier New',monospace\"></pre>\n"
      ],
      "text/plain": []
     },
     "metadata": {},
     "output_type": "display_data"
    },
    {
     "data": {
      "text/html": [
       "<pre style=\"white-space:pre;overflow-x:auto;line-height:normal;font-family:Menlo,'DejaVu Sans Mono',consolas,'Courier New',monospace\">\n",
       "</pre>\n"
      ],
      "text/plain": [
       "\n"
      ]
     },
     "metadata": {},
     "output_type": "display_data"
    },
    {
     "data": {
      "text/html": [
       "<pre style=\"white-space:pre;overflow-x:auto;line-height:normal;font-family:Menlo,'DejaVu Sans Mono',consolas,'Courier New',monospace\">🎉 <span style=\"color: #008000; text-decoration-color: #008000; font-weight: bold\">Your synthetic dataset is ready!</span> Use it to consume the generated data. Share it so others can do the same.\n",
       "</pre>\n"
      ],
      "text/plain": [
       "🎉 \u001b[1;32mYour synthetic dataset is ready!\u001b[0m Use it to consume the generated data. Share it so others can do the same.\n"
      ]
     },
     "metadata": {},
     "output_type": "display_data"
    },
    {
     "name": "stdout",
     "output_type": "stream",
     "text": [
      "Created synthetic data with 71,938 records and 6 attributes\n"
     ]
    }
   ],
   "source": [
    "# Train a generator on the pre-processed AirBnB data\n",
    "config = {\n",
    "    'name': 'Synthetic Text Tutorial AirBnB',\n",
    "    'tables': [{\n",
    "        'name': 'airBnB', 'data': tgt,\n",
    "        'modelConfiguration': {'maxTrainingTime': 10},\n",
    "        'textModelConfiguration': {'maxTrainingTime': 10},\n",
    "        'columns': [\n",
    "            {'name': 'host_name', 'included': True, 'modelEncodingType': 'CATEGORICAL'},\n",
    "            {'name': 'title', 'included': True, 'modelEncodingType': 'TEXT_MODEL'},\n",
    "            {'name': 'property_type', 'included': True, 'modelEncodingType': 'CATEGORICAL'},\n",
    "            {'name': 'room_type', 'included': True, 'modelEncodingType': 'CATEGORICAL'},\n",
    "            {'name': 'neighbourhood', 'included': True, 'modelEncodingType': 'CATEGORICAL'},\n",
    "            {'name': 'price', 'included': True, 'modelEncodingType': 'NUMERIC_AUTO'}\n",
    "        ]\n",
    "    }]\n",
    "}\n",
    "\n",
    "g_airbnb = mostly.train(config=config)\n",
    "\n",
    "# generate a synthetic dataset\n",
    "sd = mostly.generate(generator=g_airbnb)\n",
    " \n",
    "# start using it\n",
    "syn = sd.data()\n",
    "print(f\"Created synthetic data with {syn.shape[0]:,} records and {syn.shape[1]:,} attributes\")"
   ]
  },
  {
   "cell_type": "markdown",
   "metadata": {
    "id": "OgvJ0XoWTHoX"
   },
   "source": [
    "## Explore Synthetic Text\n",
    "\n",
    "Show 10 randomly sampled synthetic records. Note, that you can execute the following cell multiple times, to see different samples."
   ]
  },
  {
   "cell_type": "code",
   "execution_count": 3,
   "metadata": {
    "tags": []
   },
   "outputs": [
    {
     "data": {
      "text/html": [
       "<div>\n",
       "<style scoped>\n",
       "    .dataframe tbody tr th:only-of-type {\n",
       "        vertical-align: middle;\n",
       "    }\n",
       "\n",
       "    .dataframe tbody tr th {\n",
       "        vertical-align: top;\n",
       "    }\n",
       "\n",
       "    .dataframe thead th {\n",
       "        text-align: right;\n",
       "    }\n",
       "</style>\n",
       "<table border=\"1\" class=\"dataframe\">\n",
       "  <thead>\n",
       "    <tr style=\"text-align: right;\">\n",
       "      <th></th>\n",
       "      <th>host_name</th>\n",
       "      <th>title</th>\n",
       "      <th>property_type</th>\n",
       "      <th>room_type</th>\n",
       "      <th>neighbourhood</th>\n",
       "      <th>price</th>\n",
       "    </tr>\n",
       "  </thead>\n",
       "  <tbody>\n",
       "    <tr>\n",
       "      <th>38495</th>\n",
       "      <td>Eduardo</td>\n",
       "      <td>Master double room in shared entire flat</td>\n",
       "      <td>Private room in rental unit</td>\n",
       "      <td>Private room</td>\n",
       "      <td>Tower Hamlets</td>\n",
       "      <td>32</td>\n",
       "    </tr>\n",
       "    <tr>\n",
       "      <th>41866</th>\n",
       "      <td>Jaymin</td>\n",
       "      <td>Luxurious Room In London</td>\n",
       "      <td>Private room in home</td>\n",
       "      <td>Private room</td>\n",
       "      <td>Bromley</td>\n",
       "      <td>78</td>\n",
       "    </tr>\n",
       "    <tr>\n",
       "      <th>55918</th>\n",
       "      <td>Muhammad</td>\n",
       "      <td>London interior Apartment</td>\n",
       "      <td>Entire condo</td>\n",
       "      <td>Entire home/apt</td>\n",
       "      <td>Camden</td>\n",
       "      <td>267</td>\n",
       "    </tr>\n",
       "    <tr>\n",
       "      <th>47567</th>\n",
       "      <td>James</td>\n",
       "      <td>Beautiful Studio, Two bedroom and garden</td>\n",
       "      <td>Entire rental unit</td>\n",
       "      <td>Entire home/apt</td>\n",
       "      <td>Waltham Forest</td>\n",
       "      <td>95</td>\n",
       "    </tr>\n",
       "    <tr>\n",
       "      <th>41925</th>\n",
       "      <td>_RARE_</td>\n",
       "      <td>Lovely entire rental near Twickenham station</td>\n",
       "      <td>Private room in condo</td>\n",
       "      <td>Private room</td>\n",
       "      <td>Richmond upon Thames</td>\n",
       "      <td>110</td>\n",
       "    </tr>\n",
       "    <tr>\n",
       "      <th>60158</th>\n",
       "      <td>_RARE_</td>\n",
       "      <td>Room in beautiful Victorian house for shortler</td>\n",
       "      <td>Private room in home</td>\n",
       "      <td>Private room</td>\n",
       "      <td>Lambeth</td>\n",
       "      <td>24</td>\n",
       "    </tr>\n",
       "    <tr>\n",
       "      <th>53155</th>\n",
       "      <td>Kathrin</td>\n",
       "      <td>Pretty flat in Hackney with extra balcony</td>\n",
       "      <td>Entire rental unit</td>\n",
       "      <td>Entire home/apt</td>\n",
       "      <td>Hackney</td>\n",
       "      <td>256</td>\n",
       "    </tr>\n",
       "    <tr>\n",
       "      <th>70805</th>\n",
       "      <td>Liz</td>\n",
       "      <td>Apartment One with 5 minutes from station</td>\n",
       "      <td>Private room in rental unit</td>\n",
       "      <td>Private room</td>\n",
       "      <td>Wandsworth</td>\n",
       "      <td>75</td>\n",
       "    </tr>\n",
       "    <tr>\n",
       "      <th>71052</th>\n",
       "      <td>_RARE_</td>\n",
       "      <td>Private Room in Richmond</td>\n",
       "      <td>Private room in home</td>\n",
       "      <td>Private room</td>\n",
       "      <td>Richmond upon Thames</td>\n",
       "      <td>71</td>\n",
       "    </tr>\n",
       "    <tr>\n",
       "      <th>27862</th>\n",
       "      <td>Luana</td>\n",
       "      <td>Quirky private, Hackney West - modern flat wit...</td>\n",
       "      <td>Private room in rental unit</td>\n",
       "      <td>Private room</td>\n",
       "      <td>Waltham Forest</td>\n",
       "      <td>60</td>\n",
       "    </tr>\n",
       "  </tbody>\n",
       "</table>\n",
       "</div>"
      ],
      "text/plain": [
       "      host_name                                              title  \\\n",
       "38495   Eduardo           Master double room in shared entire flat   \n",
       "41866    Jaymin                           Luxurious Room In London   \n",
       "55918  Muhammad                          London interior Apartment   \n",
       "47567     James           Beautiful Studio, Two bedroom and garden   \n",
       "41925    _RARE_       Lovely entire rental near Twickenham station   \n",
       "60158    _RARE_     Room in beautiful Victorian house for shortler   \n",
       "53155   Kathrin          Pretty flat in Hackney with extra balcony   \n",
       "70805       Liz          Apartment One with 5 minutes from station   \n",
       "71052    _RARE_                           Private Room in Richmond   \n",
       "27862     Luana  Quirky private, Hackney West - modern flat wit...   \n",
       "\n",
       "                     property_type        room_type         neighbourhood  \\\n",
       "38495  Private room in rental unit     Private room         Tower Hamlets   \n",
       "41866         Private room in home     Private room               Bromley   \n",
       "55918                 Entire condo  Entire home/apt                Camden   \n",
       "47567           Entire rental unit  Entire home/apt        Waltham Forest   \n",
       "41925        Private room in condo     Private room  Richmond upon Thames   \n",
       "60158         Private room in home     Private room               Lambeth   \n",
       "53155           Entire rental unit  Entire home/apt               Hackney   \n",
       "70805  Private room in rental unit     Private room            Wandsworth   \n",
       "71052         Private room in home     Private room  Richmond upon Thames   \n",
       "27862  Private room in rental unit     Private room        Waltham Forest   \n",
       "\n",
       "       price  \n",
       "38495     32  \n",
       "41866     78  \n",
       "55918    267  \n",
       "47567     95  \n",
       "41925    110  \n",
       "60158     24  \n",
       "53155    256  \n",
       "70805     75  \n",
       "71052     71  \n",
       "27862     60  "
      ]
     },
     "execution_count": 3,
     "metadata": {},
     "output_type": "execute_result"
    }
   ],
   "source": [
    "syn.sample(n=10)"
   ]
  },
  {
   "cell_type": "markdown",
   "metadata": {},
   "source": [
    "Compare this to 10 randomly sampled original records."
   ]
  },
  {
   "cell_type": "code",
   "execution_count": 4,
   "metadata": {
    "tags": []
   },
   "outputs": [
    {
     "data": {
      "text/html": [
       "<div>\n",
       "<style scoped>\n",
       "    .dataframe tbody tr th:only-of-type {\n",
       "        vertical-align: middle;\n",
       "    }\n",
       "\n",
       "    .dataframe tbody tr th {\n",
       "        vertical-align: top;\n",
       "    }\n",
       "\n",
       "    .dataframe thead th {\n",
       "        text-align: right;\n",
       "    }\n",
       "</style>\n",
       "<table border=\"1\" class=\"dataframe\">\n",
       "  <thead>\n",
       "    <tr style=\"text-align: right;\">\n",
       "      <th></th>\n",
       "      <th>host_name</th>\n",
       "      <th>title</th>\n",
       "      <th>property_type</th>\n",
       "      <th>room_type</th>\n",
       "      <th>neighbourhood</th>\n",
       "      <th>price</th>\n",
       "    </tr>\n",
       "  </thead>\n",
       "  <tbody>\n",
       "    <tr>\n",
       "      <th>61966</th>\n",
       "      <td>Conan</td>\n",
       "      <td>Beautiful double bedroom and private bathroom</td>\n",
       "      <td>Private room in condo</td>\n",
       "      <td>Private room</td>\n",
       "      <td>Southwark</td>\n",
       "      <td>70</td>\n",
       "    </tr>\n",
       "    <tr>\n",
       "      <th>28574</th>\n",
       "      <td>Adam Umar</td>\n",
       "      <td>Quiet &amp; Clean King Bed in Central London</td>\n",
       "      <td>Private room in rental unit</td>\n",
       "      <td>Private room</td>\n",
       "      <td>Camden</td>\n",
       "      <td>60</td>\n",
       "    </tr>\n",
       "    <tr>\n",
       "      <th>49856</th>\n",
       "      <td>Joy</td>\n",
       "      <td>King size room+ensuite, private gated free par...</td>\n",
       "      <td>Private room in condo</td>\n",
       "      <td>Private room</td>\n",
       "      <td>Tower Hamlets</td>\n",
       "      <td>66</td>\n",
       "    </tr>\n",
       "    <tr>\n",
       "      <th>12896</th>\n",
       "      <td>Denis</td>\n",
       "      <td>Cosy 2 bedroom flat with private bathroom quiet</td>\n",
       "      <td>Entire rental unit</td>\n",
       "      <td>Entire home/apt</td>\n",
       "      <td>Enfield</td>\n",
       "      <td>89</td>\n",
       "    </tr>\n",
       "    <tr>\n",
       "      <th>38257</th>\n",
       "      <td>Altido</td>\n",
       "      <td>Lovely studio flat w/ terrace in Southeast London</td>\n",
       "      <td>Entire rental unit</td>\n",
       "      <td>Entire home/apt</td>\n",
       "      <td>Lewisham</td>\n",
       "      <td>144</td>\n",
       "    </tr>\n",
       "    <tr>\n",
       "      <th>33617</th>\n",
       "      <td>Paul &amp; Chris</td>\n",
       "      <td>Gorgeous Double Room-Walk to Wimbledon Tennis</td>\n",
       "      <td>Private room in condo</td>\n",
       "      <td>Private room</td>\n",
       "      <td>Wandsworth</td>\n",
       "      <td>77</td>\n",
       "    </tr>\n",
       "    <tr>\n",
       "      <th>56385</th>\n",
       "      <td>Jasir</td>\n",
       "      <td>Single bed flat with 3C’s: Cheap, Clean and Cozy!</td>\n",
       "      <td>Entire condo</td>\n",
       "      <td>Entire home/apt</td>\n",
       "      <td>Southwark</td>\n",
       "      <td>185</td>\n",
       "    </tr>\n",
       "    <tr>\n",
       "      <th>52455</th>\n",
       "      <td>Caitlin</td>\n",
       "      <td>Modern  1 bedroom flat with secluded garden</td>\n",
       "      <td>Entire condo</td>\n",
       "      <td>Entire home/apt</td>\n",
       "      <td>Waltham Forest</td>\n",
       "      <td>70</td>\n",
       "    </tr>\n",
       "    <tr>\n",
       "      <th>63528</th>\n",
       "      <td>Kayode</td>\n",
       "      <td>TMS Cosy 2 bedroom house! Dagenham! Free parking</td>\n",
       "      <td>Entire home</td>\n",
       "      <td>Entire home/apt</td>\n",
       "      <td>Barking and Dagenham</td>\n",
       "      <td>150</td>\n",
       "    </tr>\n",
       "    <tr>\n",
       "      <th>66864</th>\n",
       "      <td>Olga</td>\n",
       "      <td>Beautiful 1-bed flat in New Cross/Deptford</td>\n",
       "      <td>Entire condo</td>\n",
       "      <td>Entire home/apt</td>\n",
       "      <td>Lewisham</td>\n",
       "      <td>111</td>\n",
       "    </tr>\n",
       "  </tbody>\n",
       "</table>\n",
       "</div>"
      ],
      "text/plain": [
       "          host_name                                              title  \\\n",
       "61966         Conan      Beautiful double bedroom and private bathroom   \n",
       "28574     Adam Umar           Quiet & Clean King Bed in Central London   \n",
       "49856           Joy  King size room+ensuite, private gated free par...   \n",
       "12896         Denis    Cosy 2 bedroom flat with private bathroom quiet   \n",
       "38257        Altido  Lovely studio flat w/ terrace in Southeast London   \n",
       "33617  Paul & Chris      Gorgeous Double Room-Walk to Wimbledon Tennis   \n",
       "56385         Jasir  Single bed flat with 3C’s: Cheap, Clean and Cozy!   \n",
       "52455       Caitlin        Modern  1 bedroom flat with secluded garden   \n",
       "63528        Kayode   TMS Cosy 2 bedroom house! Dagenham! Free parking   \n",
       "66864          Olga         Beautiful 1-bed flat in New Cross/Deptford   \n",
       "\n",
       "                     property_type        room_type         neighbourhood  \\\n",
       "61966        Private room in condo     Private room             Southwark   \n",
       "28574  Private room in rental unit     Private room                Camden   \n",
       "49856        Private room in condo     Private room         Tower Hamlets   \n",
       "12896           Entire rental unit  Entire home/apt               Enfield   \n",
       "38257           Entire rental unit  Entire home/apt              Lewisham   \n",
       "33617        Private room in condo     Private room            Wandsworth   \n",
       "56385                 Entire condo  Entire home/apt             Southwark   \n",
       "52455                 Entire condo  Entire home/apt        Waltham Forest   \n",
       "63528                  Entire home  Entire home/apt  Barking and Dagenham   \n",
       "66864                 Entire condo  Entire home/apt              Lewisham   \n",
       "\n",
       "       price  \n",
       "61966     70  \n",
       "28574     60  \n",
       "49856     66  \n",
       "12896     89  \n",
       "38257    144  \n",
       "33617     77  \n",
       "56385    185  \n",
       "52455     70  \n",
       "63528    150  \n",
       "66864    111  "
      ]
     },
     "execution_count": 4,
     "metadata": {},
     "output_type": "execute_result"
    }
   ],
   "source": [
    "tgt.sample(n=10)"
   ]
  },
  {
   "cell_type": "markdown",
   "metadata": {
    "tags": []
   },
   "source": [
    "### Inspect Character Set\n",
    "\n",
    "You will note, that the character set of the synthetic data is shorter. This is due to the privacy mechanism within the MOSTLY AI platform, where very rare tokens are being removed, to prevent that their presence give away information on the existence of individual records."
   ]
  },
  {
   "cell_type": "code",
   "execution_count": 5,
   "metadata": {
    "tags": []
   },
   "outputs": [
    {
     "name": "stdout",
     "output_type": "stream",
     "text": [
      "## ORIGINAL ##\n",
      "  !\"#$%&'()*+,-./0123456789:;<=>?@ABCDEFGHIJKLMNOPQRSTUVWXYZ[\\]^_`abcdefghijklmnopqrstuvwxyz{|}~ £¦¬®°²´·ÁÉÜàáâãäåçèéìíóôöùüİıœАБВГДЛНРСУабвгдежзийклмнопрстухцшыьюяבדהוחילםמןנעפצקרשתდღ ​‍–—‘’“”•…⁂⁉⁎₂₄₆₈™↑→│▶◀●◑☀☃★☆☑☝☯☸☺☻☼♂♔♕♖♗♚♛♜♝♞♟♡♥♦♪♫♬⚜⚡✅✈✔✦✧✨✩✪✭✮✯✰✵✹✽✾✿❀❁❃❄❆❖❣❤❥❦➊➋➍➔➕➡⟮⟯⬆⭐⭑、。』【】〔〕きなのイキスバムルレ・ー一三世东两中临主之乡二五亚交亮人他付们价伦位住你佳便個倫值備僅入全公共其净出分利别剩务包区區十华单南卧卫厅厨双受可台合和品啦四回园国國在地场型堡塔墅多大天套奢女好威子字学宅安实客室宮家宽宿密寓寧専小尔层居屋市希带帶常干年床店廁建异式德心念思性惠感我或房手抢拎招排政敞敦整文斯新方日明星是晶暑暖最月有服朝期本机极林格档桥梅梯極楼欢歐比民水河治沿洁洗洲济浴海清温源溫滨独王理生用电畔留白的短碼私租立站筑精素紧絕絲级线经维罗置联肯至舍舒英華萨融西觉計設語让象豪贝质超跨車转辦迎近适通速適還邻配酒金鐵钟长間间限院陽雀露静靜非頭馨高齊간개고공교근기깔깨끔끗뉴늑는단담더던독드든락랏럭런렛룸리멋몰베보브블빛살서셔소숙실아안역욕의이인잘장존진처캠크통트파편플하한햇화️﹢！（），［］ｘ～￼𝗕𝗥𝗦𝗮𝗱𝗲𝗴𝗵𝗶𝗹𝗻𝗼𝗿𝘀𝘁𝘂𝘃𝘄𝘆𝟯🅿🇦🇧🇪🇫🇬🇮🇷🇸🇺🌃🌆🌇🌈🌞🌟🌠🌱🌲🌳🌴🌵🌸🌹🌺🌻🌿🍃🍒🎀🎬🎯🎾🏆🏒🏘🏙🏛🏟🏠🏡🏳🏴🏻🏼🐈🐱🐶👌👍👑👥💂💎💐💕💖💗💙💚💛💜💤💫📍📶🔝🖼😊😍😴🙆🚀🚂🚆🚉🚊🚌🚍🚗🚞🚨🚲🛀🛋🛌🛍🛏🤩🤴🥇🥰🧡🪴󠁢󠁥󠁧󠁮󠁿 \n",
      "\n",
      "Length of ORIGINAL characters: 752 \n",
      "\n",
      "## SYNTHETIC ##\n",
      "  !\"#$%&'()*+,-./0123456789:;<>?@ABCDEFGHIJKLMNOPQRSTUVWXYZ[\\]^_abcdefghijklmnopqrstuvwxyz{|~ £¦¬®°²´·ÁÜàáâãäåçèéìíóöİıœАВДЛРУавгдеийлмнортуяמןღ‍–—‘’“”•…→│▶◀◑☀★☆☝☯☸☺☻☼♂♕♖♚♛♜♝♟♡♥♦♪♫♬⚜⚡✈✔✦✧✨✩✪✮✯✰✹✿❀❁❄❆❣❤❦➊➋➍➡⬆⭐⭑、。』【】きなイキスバレ・ー一三东中主之二亚交人价伦你便個倫全公分利区區华单卫厨受台品四国在场墅多大天套奢女好学宅安室家宿寓寧専小尔居市店廁异式心思性我房手抢拎招敦星是晶暖最有机极档梅極歐比治济浴温独理生用电白的短私租立精经维罗肯至舍舒英贝跨迎近适適還金钟间雀頭高고공깨뉴단더독락몰빛실아장편하한화️﹢（）］ｘ～𝗦𝗱𝗵𝗶𝟯🅿🇧🇬🌃🌆🌈🌞🌟🌴🌹🌺🌿🍃🎬🎯🎾🏘🏙🏟🏡🏳🏼🐈🐱🐶👌👑💂💎💐💕💖💗💛💤📍📶🖼🚞🛋🛌🤩🥇🪴 \n",
      "\n",
      "Length of SYNTHETIC characters: 413 \n",
      "\n"
     ]
    }
   ],
   "source": [
    "# Concatenate 'title' strings and remove duplicates by converting to a set, then back to a list\n",
    "tgt_chars = ''.join(sorted(list(set(tgt['title'].str.cat(sep=' ')))))\n",
    "syn_chars = ''.join(sorted(list(set(syn['title'].str.cat(sep=' ')))))\n",
    "\n",
    "# Display the concatenated strings and their lengths\n",
    "print('## ORIGINAL ##\\n', tgt_chars, '\\n')\n",
    "print('Length of ORIGINAL characters:', len(tgt_chars), '\\n')\n",
    "print('## SYNTHETIC ##\\n', syn_chars, '\\n')\n",
    "print('Length of SYNTHETIC characters:', len(syn_chars), '\\n')"
   ]
  },
  {
   "cell_type": "markdown",
   "metadata": {},
   "source": [
    "### Inspect Character Frequency"
   ]
  },
  {
   "cell_type": "code",
   "execution_count": 6,
   "metadata": {
    "tags": []
   },
   "outputs": [
    {
     "data": {
      "text/html": [
       "<div>\n",
       "<style scoped>\n",
       "    .dataframe tbody tr th:only-of-type {\n",
       "        vertical-align: middle;\n",
       "    }\n",
       "\n",
       "    .dataframe tbody tr th {\n",
       "        vertical-align: top;\n",
       "    }\n",
       "\n",
       "    .dataframe thead th {\n",
       "        text-align: right;\n",
       "    }\n",
       "</style>\n",
       "<table border=\"1\" class=\"dataframe\">\n",
       "  <thead>\n",
       "    <tr style=\"text-align: right;\">\n",
       "      <th></th>\n",
       "      <th>char</th>\n",
       "      <th>tgt</th>\n",
       "      <th>syn</th>\n",
       "    </tr>\n",
       "  </thead>\n",
       "  <tbody>\n",
       "    <tr>\n",
       "      <th>1</th>\n",
       "      <td></td>\n",
       "      <td>0.13409</td>\n",
       "      <td>0.13468</td>\n",
       "    </tr>\n",
       "    <tr>\n",
       "      <th>80</th>\n",
       "      <td>o</td>\n",
       "      <td>0.07679</td>\n",
       "      <td>0.07795</td>\n",
       "    </tr>\n",
       "    <tr>\n",
       "      <th>70</th>\n",
       "      <td>e</td>\n",
       "      <td>0.07653</td>\n",
       "      <td>0.07719</td>\n",
       "    </tr>\n",
       "    <tr>\n",
       "      <th>79</th>\n",
       "      <td>n</td>\n",
       "      <td>0.05957</td>\n",
       "      <td>0.05950</td>\n",
       "    </tr>\n",
       "    <tr>\n",
       "      <th>85</th>\n",
       "      <td>t</td>\n",
       "      <td>0.05645</td>\n",
       "      <td>0.05756</td>\n",
       "    </tr>\n",
       "    <tr>\n",
       "      <th>66</th>\n",
       "      <td>a</td>\n",
       "      <td>0.05333</td>\n",
       "      <td>0.05576</td>\n",
       "    </tr>\n",
       "    <tr>\n",
       "      <th>83</th>\n",
       "      <td>r</td>\n",
       "      <td>0.05044</td>\n",
       "      <td>0.05163</td>\n",
       "    </tr>\n",
       "    <tr>\n",
       "      <th>0</th>\n",
       "      <td></td>\n",
       "      <td>0.04836</td>\n",
       "      <td>0.04757</td>\n",
       "    </tr>\n",
       "    <tr>\n",
       "      <th>74</th>\n",
       "      <td>i</td>\n",
       "      <td>0.04755</td>\n",
       "      <td>0.04786</td>\n",
       "    </tr>\n",
       "    <tr>\n",
       "      <th>77</th>\n",
       "      <td>l</td>\n",
       "      <td>0.03462</td>\n",
       "      <td>0.03542</td>\n",
       "    </tr>\n",
       "  </tbody>\n",
       "</table>\n",
       "</div>"
      ],
      "text/plain": [
       "   char      tgt      syn\n",
       "1        0.13409  0.13468\n",
       "80    o  0.07679  0.07795\n",
       "70    e  0.07653  0.07719\n",
       "79    n  0.05957  0.05950\n",
       "85    t  0.05645  0.05756\n",
       "66    a  0.05333  0.05576\n",
       "83    r  0.05044  0.05163\n",
       "0        0.04836  0.04757\n",
       "74    i  0.04755  0.04786\n",
       "77    l  0.03462  0.03542"
      ]
     },
     "execution_count": 6,
     "metadata": {},
     "output_type": "execute_result"
    }
   ],
   "source": [
    "# Get character frequencies for 'tgt'\n",
    "tgt_chars = tgt['title'].str.split('').explode()\n",
    "tgt_freq = tgt_chars.value_counts(normalize=True).rename_axis('char').reset_index(name='tgt')\n",
    "\n",
    "# Get character frequencies for 'syn'\n",
    "syn_chars = syn['title'].str.split('').explode()\n",
    "syn_freq = syn_chars.value_counts(normalize=True).rename_axis('char').reset_index(name='syn')\n",
    "\n",
    "# Merge the frequencies and sort\n",
    "title_char_freq = pd.merge(tgt_freq, syn_freq, on='char', how='outer').round(5)\n",
    "title_char_freq.sort_values(by='tgt', ascending=False, inplace=True)\n",
    "\n",
    "# Display the frequencies\n",
    "title_char_freq.head(10)"
   ]
  },
  {
   "cell_type": "code",
   "execution_count": 7,
   "metadata": {
    "tags": []
   },
   "outputs": [
    {
     "data": {
      "image/png": "[encoded data removed]",
      "text/plain": [
       "<Figure size 640x480 with 1 Axes>"
      ]
     },
     "metadata": {},
     "output_type": "display_data"
    }
   ],
   "source": [
    "import matplotlib.pyplot as plt\n",
    "\n",
    "# Set 'char' column as the index\n",
    "title_char_freq_indexed = title_char_freq.set_index('char')\n",
    "\n",
    "# Plot the first 50 characters using the new index\n",
    "ax = title_char_freq_indexed.head(50).plot.line()\n",
    "plt.title('Distribution of 50 most common characters')\n",
    "\n",
    "# Set x-axis labels with no rotation for better readability\n",
    "plt.xticks(ticks=range(len(title_char_freq_indexed.head(50))), labels=title_char_freq_indexed.head(50).index, rotation=0)\n",
    "\n",
    "plt.xlabel('Character')\n",
    "plt.ylabel('Frequency')\n",
    "\n",
    "plt.show()"
   ]
  },
  {
   "cell_type": "markdown",
   "metadata": {},
   "source": [
    "We can see that Character Frequencies are perfectly retained."
   ]
  },
  {
   "cell_type": "markdown",
   "metadata": {
    "tags": []
   },
   "source": [
    "### Inspect Term Frequency"
   ]
  },
  {
   "cell_type": "code",
   "execution_count": 9,
   "metadata": {
    "tags": []
   },
   "outputs": [
    {
     "data": {
      "text/html": [
       "<div>\n",
       "<style scoped>\n",
       "    .dataframe tbody tr th:only-of-type {\n",
       "        vertical-align: middle;\n",
       "    }\n",
       "\n",
       "    .dataframe tbody tr th {\n",
       "        vertical-align: top;\n",
       "    }\n",
       "\n",
       "    .dataframe thead th {\n",
       "        text-align: right;\n",
       "    }\n",
       "</style>\n",
       "<table border=\"1\" class=\"dataframe\">\n",
       "  <thead>\n",
       "    <tr style=\"text-align: right;\">\n",
       "      <th></th>\n",
       "      <th>term</th>\n",
       "      <th>tgt</th>\n",
       "      <th>syn</th>\n",
       "    </tr>\n",
       "  </thead>\n",
       "  <tbody>\n",
       "    <tr>\n",
       "      <th>17349</th>\n",
       "      <td>in</td>\n",
       "      <td>0.05441</td>\n",
       "      <td>0.05094</td>\n",
       "    </tr>\n",
       "    <tr>\n",
       "      <th>13798</th>\n",
       "      <td>flat</td>\n",
       "      <td>0.03362</td>\n",
       "      <td>0.03702</td>\n",
       "    </tr>\n",
       "    <tr>\n",
       "      <th>26530</th>\n",
       "      <td>room</td>\n",
       "      <td>0.03209</td>\n",
       "      <td>0.03298</td>\n",
       "    </tr>\n",
       "    <tr>\n",
       "      <th>19656</th>\n",
       "      <td>london</td>\n",
       "      <td>0.02844</td>\n",
       "      <td>0.02633</td>\n",
       "    </tr>\n",
       "    <tr>\n",
       "      <th>6458</th>\n",
       "      <td>bedroom</td>\n",
       "      <td>0.02788</td>\n",
       "      <td>0.02934</td>\n",
       "    </tr>\n",
       "    <tr>\n",
       "      <th>4927</th>\n",
       "      <td>apartment</td>\n",
       "      <td>0.02130</td>\n",
       "      <td>0.01852</td>\n",
       "    </tr>\n",
       "    <tr>\n",
       "      <th>11721</th>\n",
       "      <td>double</td>\n",
       "      <td>0.02063</td>\n",
       "      <td>0.01724</td>\n",
       "    </tr>\n",
       "    <tr>\n",
       "      <th>33913</th>\n",
       "      <td>with</td>\n",
       "      <td>0.01868</td>\n",
       "      <td>0.01875</td>\n",
       "    </tr>\n",
       "    <tr>\n",
       "      <th>1971</th>\n",
       "      <td>2</td>\n",
       "      <td>0.01759</td>\n",
       "      <td>0.01793</td>\n",
       "    </tr>\n",
       "    <tr>\n",
       "      <th>6356</th>\n",
       "      <td>bed</td>\n",
       "      <td>0.01642</td>\n",
       "      <td>0.01736</td>\n",
       "    </tr>\n",
       "  </tbody>\n",
       "</table>\n",
       "</div>"
      ],
      "text/plain": [
       "            term      tgt      syn\n",
       "17349         in  0.05441  0.05094\n",
       "13798       flat  0.03362  0.03702\n",
       "26530       room  0.03209  0.03298\n",
       "19656     london  0.02844  0.02633\n",
       "6458     bedroom  0.02788  0.02934\n",
       "4927   apartment  0.02130  0.01852\n",
       "11721     double  0.02063  0.01724\n",
       "33913       with  0.01868  0.01875\n",
       "1971           2  0.01759  0.01793\n",
       "6356         bed  0.01642  0.01736"
      ]
     },
     "metadata": {},
     "output_type": "display_data"
    },
    {
     "data": {
      "text/html": [
       "<div>\n",
       "<style scoped>\n",
       "    .dataframe tbody tr th:only-of-type {\n",
       "        vertical-align: middle;\n",
       "    }\n",
       "\n",
       "    .dataframe tbody tr th {\n",
       "        vertical-align: top;\n",
       "    }\n",
       "\n",
       "    .dataframe thead th {\n",
       "        text-align: right;\n",
       "    }\n",
       "</style>\n",
       "<table border=\"1\" class=\"dataframe\">\n",
       "  <thead>\n",
       "    <tr style=\"text-align: right;\">\n",
       "      <th></th>\n",
       "      <th>term</th>\n",
       "      <th>tgt</th>\n",
       "      <th>syn</th>\n",
       "    </tr>\n",
       "  </thead>\n",
       "  <tbody>\n",
       "    <tr>\n",
       "      <th>31830</th>\n",
       "      <td>twin</td>\n",
       "      <td>0.00070</td>\n",
       "      <td>0.00045</td>\n",
       "    </tr>\n",
       "    <tr>\n",
       "      <th>2446</th>\n",
       "      <td>2br</td>\n",
       "      <td>0.00070</td>\n",
       "      <td>0.00076</td>\n",
       "    </tr>\n",
       "    <tr>\n",
       "      <th>32100</th>\n",
       "      <td>unique</td>\n",
       "      <td>0.00069</td>\n",
       "      <td>0.00046</td>\n",
       "    </tr>\n",
       "    <tr>\n",
       "      <th>8265</th>\n",
       "      <td>canal</td>\n",
       "      <td>0.00068</td>\n",
       "      <td>0.00091</td>\n",
       "    </tr>\n",
       "    <tr>\n",
       "      <th>28460</th>\n",
       "      <td>soho</td>\n",
       "      <td>0.00068</td>\n",
       "      <td>0.00054</td>\n",
       "    </tr>\n",
       "    <tr>\n",
       "      <th>13012</th>\n",
       "      <td>excel</td>\n",
       "      <td>0.00067</td>\n",
       "      <td>0.00047</td>\n",
       "    </tr>\n",
       "    <tr>\n",
       "      <th>26028</th>\n",
       "      <td>rent</td>\n",
       "      <td>0.00067</td>\n",
       "      <td>0.00038</td>\n",
       "    </tr>\n",
       "    <tr>\n",
       "      <th>21045</th>\n",
       "      <td>mews</td>\n",
       "      <td>0.00067</td>\n",
       "      <td>0.00067</td>\n",
       "    </tr>\n",
       "    <tr>\n",
       "      <th>10319</th>\n",
       "      <td>cottage</td>\n",
       "      <td>0.00067</td>\n",
       "      <td>0.00061</td>\n",
       "    </tr>\n",
       "    <tr>\n",
       "      <th>18960</th>\n",
       "      <td>leafy</td>\n",
       "      <td>0.00067</td>\n",
       "      <td>0.00074</td>\n",
       "    </tr>\n",
       "  </tbody>\n",
       "</table>\n",
       "</div>"
      ],
      "text/plain": [
       "          term      tgt      syn\n",
       "31830     twin  0.00070  0.00045\n",
       "2446       2br  0.00070  0.00076\n",
       "32100   unique  0.00069  0.00046\n",
       "8265     canal  0.00068  0.00091\n",
       "28460     soho  0.00068  0.00054\n",
       "13012    excel  0.00067  0.00047\n",
       "26028     rent  0.00067  0.00038\n",
       "21045     mews  0.00067  0.00067\n",
       "10319  cottage  0.00067  0.00061\n",
       "18960    leafy  0.00067  0.00074"
      ]
     },
     "metadata": {},
     "output_type": "display_data"
    }
   ],
   "source": [
    "import pandas as pd\n",
    "import re\n",
    "\n",
    "def sanitize(s):\n",
    "    s = str(s).lower()\n",
    "    s = re.sub('[\\\\,\\\\.\\\\)\\\\(\\\\!\\\\\"\\\\:\\\\/]', ' ', s)\n",
    "    s = re.sub('[ ]+', ' ', s)\n",
    "    return s\n",
    "\n",
    "# Apply the sanitize function and split the titles into terms\n",
    "tgt['terms'] = tgt['title'].apply(lambda x: sanitize(x)).str.split(' ')\n",
    "syn['terms'] = syn['title'].apply(lambda x: sanitize(x)).str.split(' ')\n",
    "\n",
    "# Explode 'terms' and create a DataFrame with explicit column names before applying value_counts\n",
    "tgt_terms_df = tgt['terms'].explode().to_frame(name='term')\n",
    "syn_terms_df = syn['terms'].explode().to_frame(name='term')\n",
    "\n",
    "# Calculate the normalized value counts and reset the index\n",
    "tgt_freq = tgt_terms_df['term'].value_counts(normalize=True).reset_index(name='tgt').rename(columns={'index': 'term'})\n",
    "syn_freq = syn_terms_df['term'].value_counts(normalize=True).reset_index(name='syn').rename(columns={'index': 'term'})\n",
    "\n",
    "# Merge the frequencies and sort by 'tgt' in descending order\n",
    "title_term_freq = pd.merge(tgt_freq, syn_freq, on='term', how='outer').round(5)\n",
    "title_term_freq = title_term_freq.sort_values(by='tgt', ascending=False)\n",
    "\n",
    "# Display the top and bottom rows\n",
    "display(title_term_freq.head(10))\n",
    "display(title_term_freq.head(200).tail(10))"
   ]
  },
  {
   "cell_type": "code",
   "execution_count": 10,
   "metadata": {
    "tags": []
   },
   "outputs": [
    {
     "data": {
      "image/png": "[encoded data removed]",
      "text/plain": [
       "<Figure size 640x480 with 1 Axes>"
      ]
     },
     "metadata": {},
     "output_type": "display_data"
    }
   ],
   "source": [
    "# Set 'term' column as the index\n",
    "title_term_freq_indexed = title_term_freq.set_index('term')\n",
    "\n",
    "# Plot the first 50 terms using the new index\n",
    "ax = title_term_freq_indexed.head(50).plot.line()\n",
    "plt.title('Distribution of 50 most common terms')\n",
    "\n",
    "# Set x-axis labels with a 90-degree rotation for better readability\n",
    "plt.xticks(ticks=range(len(title_term_freq_indexed.head(50))), labels=title_term_freq_indexed.head(50).index, rotation=90)\n",
    "\n",
    "plt.xlabel('Term')\n",
    "plt.ylabel('Frequency')\n",
    "\n",
    "plt.show()"
   ]
  },
  {
   "cell_type": "markdown",
   "metadata": {},
   "source": [
    "We can see that Term Frequencies are perfectly retained."
   ]
  },
  {
   "cell_type": "markdown",
   "metadata": {
    "tags": []
   },
   "source": [
    "### Inspect Term Co-occurrence"
   ]
  },
  {
   "cell_type": "code",
   "execution_count": 11,
   "metadata": {
    "tags": []
   },
   "outputs": [
    {
     "name": "stdout",
     "output_type": "stream",
     "text": [
      "14% of original Listings, that contain `bed`, also contain `double`\n",
      "10% of synthetic Listings, that contain `bed`, also contain `double`\n",
      "\n",
      "7% of original Listings, that contain `bed`, also contain `king`\n",
      "7% of synthetic Listings, that contain `bed`, also contain `king`\n",
      "\n",
      "28% of original Listings, that contain `heart`, also contain `london`\n",
      "24% of synthetic Listings, that contain `heart`, also contain `london`\n",
      "\n",
      "4% of original Listings, that contain `london`, also contain `heart`\n",
      "4% of synthetic Listings, that contain `london`, also contain `heart`\n",
      "\n"
     ]
    }
   ],
   "source": [
    "def calc_conditional_probability(term1, term2):\n",
    "    # Ensure no NaN values in 'title' before applying str.contains\n",
    "    tgt_beds = tgt['title'].fillna('').str.lower().str.contains(term1)\n",
    "    syn_beds = syn['title'].fillna('').str.lower().str.contains(term1)\n",
    "    \n",
    "    # Use the boolean Series to filter 'title' containing term1 and then check for term2\n",
    "    tgt_beds_double = tgt['title'][tgt_beds].str.lower().str.contains(term2).mean()\n",
    "    syn_beds_double = syn['title'][syn_beds].str.lower().str.contains(term2).mean()\n",
    "    \n",
    "    print(f\"{tgt_beds_double:.0%} of original Listings, that contain `{term1}`, also contain `{term2}`\")\n",
    "    print(f\"{syn_beds_double:.0%} of synthetic Listings, that contain `{term1}`, also contain `{term2}`\")\n",
    "    print(\"\")\n",
    "\n",
    "calc_conditional_probability('bed', 'double')\n",
    "calc_conditional_probability('bed', 'king')\n",
    "calc_conditional_probability('heart', 'london')\n",
    "calc_conditional_probability('london', 'heart')"
   ]
  },
  {
   "cell_type": "markdown",
   "metadata": {},
   "source": [
    "We can see that Term Co-occurrences are almost perfectly retained.\n",
    "\n",
    "Now you might be asking yourself: if all of these characteristics are maintained, what are the chances that we'll end up with exact matches, i.e. synthetic records with the exact same `title` value as a record in the original dataset? Or even a synthetic record with the exact same values for all the columns?\n",
    "\n",
    "Let's start by trying to find an exact match for 1 specific synthetic `title` value:"
   ]
  },
  {
   "cell_type": "code",
   "execution_count": 12,
   "metadata": {},
   "outputs": [
    {
     "data": {
      "text/html": [
       "<div>\n",
       "<style scoped>\n",
       "    .dataframe tbody tr th:only-of-type {\n",
       "        vertical-align: middle;\n",
       "    }\n",
       "\n",
       "    .dataframe tbody tr th {\n",
       "        vertical-align: top;\n",
       "    }\n",
       "\n",
       "    .dataframe thead th {\n",
       "        text-align: right;\n",
       "    }\n",
       "</style>\n",
       "<table border=\"1\" class=\"dataframe\">\n",
       "  <thead>\n",
       "    <tr style=\"text-align: right;\">\n",
       "      <th></th>\n",
       "      <th>host_name</th>\n",
       "      <th>title</th>\n",
       "      <th>property_type</th>\n",
       "      <th>room_type</th>\n",
       "      <th>neighbourhood</th>\n",
       "      <th>price</th>\n",
       "      <th>terms</th>\n",
       "    </tr>\n",
       "  </thead>\n",
       "  <tbody>\n",
       "    <tr>\n",
       "      <th>4982</th>\n",
       "      <td>Jay</td>\n",
       "      <td>A light and airy large double room.</td>\n",
       "      <td>Private room in home</td>\n",
       "      <td>Private room</td>\n",
       "      <td>Haringey</td>\n",
       "      <td>80</td>\n",
       "      <td>[a, light, and, airy, large, double, room, ]</td>\n",
       "    </tr>\n",
       "  </tbody>\n",
       "</table>\n",
       "</div>"
      ],
      "text/plain": [
       "     host_name                                title         property_type  \\\n",
       "4982       Jay  A light and airy large double room.  Private room in home   \n",
       "\n",
       "         room_type neighbourhood  price  \\\n",
       "4982  Private room      Haringey     80   \n",
       "\n",
       "                                             terms  \n",
       "4982  [a, light, and, airy, large, double, room, ]  "
      ]
     },
     "execution_count": 12,
     "metadata": {},
     "output_type": "execute_result"
    }
   ],
   "source": [
    "# find exact match for 1 specific synthetic title value. Copy a `title` value from a synthetic record into the `title_value` field below and run the cell to find an exact match in the original dataset\n",
    "title_value = \"Airy large double room\"\n",
    "tgt.loc[tgt['title'].str.contains(title_value, case=False, na=False)]"
   ]
  },
  {
   "cell_type": "markdown",
   "metadata": {},
   "source": [
    "Depending on your chosen value, you may or may not find an exact match. This row-by-row validation process doesn't indicate very much and, more importantly, doesn't scale very well to the 71K rows in the dataset."
   ]
  },
  {
   "cell_type": "markdown",
   "metadata": {
    "tags": []
   },
   "source": [
    "### Inspect Privacy via Exact Matches\n",
    "\n",
    "Let's perform a simplified check for privacy, by looking for exact matches between the synthetic and the original.\n",
    "\n",
    "For that we first split the original data into two equally-sized sets, and measure the number of matches between those two sets."
   ]
  },
  {
   "cell_type": "code",
   "execution_count": 13,
   "metadata": {
    "tags": []
   },
   "outputs": [
    {
     "data": {
      "text/html": [
       "<div>\n",
       "<style scoped>\n",
       "    .dataframe tbody tr th:only-of-type {\n",
       "        vertical-align: middle;\n",
       "    }\n",
       "\n",
       "    .dataframe tbody tr th {\n",
       "        vertical-align: top;\n",
       "    }\n",
       "\n",
       "    .dataframe thead th {\n",
       "        text-align: right;\n",
       "    }\n",
       "</style>\n",
       "<table border=\"1\" class=\"dataframe\">\n",
       "  <thead>\n",
       "    <tr style=\"text-align: right;\">\n",
       "      <th></th>\n",
       "      <th>title</th>\n",
       "    </tr>\n",
       "  </thead>\n",
       "  <tbody>\n",
       "    <tr>\n",
       "      <th>0</th>\n",
       "      <td>Cozy double room</td>\n",
       "    </tr>\n",
       "    <tr>\n",
       "      <th>1</th>\n",
       "      <td>Single room</td>\n",
       "    </tr>\n",
       "    <tr>\n",
       "      <th>2</th>\n",
       "      <td>Double room</td>\n",
       "    </tr>\n",
       "    <tr>\n",
       "      <th>3</th>\n",
       "      <td>Bright double room</td>\n",
       "    </tr>\n",
       "    <tr>\n",
       "      <th>4</th>\n",
       "      <td>Double Room in Victorian Terrace</td>\n",
       "    </tr>\n",
       "    <tr>\n",
       "      <th>...</th>\n",
       "      <td>...</td>\n",
       "    </tr>\n",
       "    <tr>\n",
       "      <th>318</th>\n",
       "      <td>Euston Square Hotel, Superior Double Room (2DX)</td>\n",
       "    </tr>\n",
       "    <tr>\n",
       "      <th>319</th>\n",
       "      <td>Furnished Flat in Central London, Edgware Road...</td>\n",
       "    </tr>\n",
       "    <tr>\n",
       "      <th>320</th>\n",
       "      <td>Double room to rent</td>\n",
       "    </tr>\n",
       "    <tr>\n",
       "      <th>321</th>\n",
       "      <td>Prime area, professional cleaning, high speed ...</td>\n",
       "    </tr>\n",
       "    <tr>\n",
       "      <th>322</th>\n",
       "      <td>Lovely Double Room</td>\n",
       "    </tr>\n",
       "  </tbody>\n",
       "</table>\n",
       "<p>323 rows × 1 columns</p>\n",
       "</div>"
      ],
      "text/plain": [
       "                                                 title\n",
       "0                                     Cozy double room\n",
       "1                                          Single room\n",
       "2                                          Double room\n",
       "3                                   Bright double room\n",
       "4                     Double Room in Victorian Terrace\n",
       "..                                                 ...\n",
       "318    Euston Square Hotel, Superior Double Room (2DX)\n",
       "319  Furnished Flat in Central London, Edgware Road...\n",
       "320                                Double room to rent\n",
       "321  Prime area, professional cleaning, high speed ...\n",
       "322                                 Lovely Double Room\n",
       "\n",
       "[323 rows x 1 columns]"
      ]
     },
     "execution_count": 13,
     "metadata": {},
     "output_type": "execute_result"
    }
   ],
   "source": [
    "n = int(tgt.shape[0]/2)\n",
    "pd.merge(tgt[['title']][:n].drop_duplicates(), tgt[['title']][n:].drop_duplicates())"
   ]
  },
  {
   "cell_type": "markdown",
   "metadata": {},
   "source": [
    "Next, we take an equally-sized subset of the synthetic data, and again measure the number of matches between that set and the original data."
   ]
  },
  {
   "cell_type": "code",
   "execution_count": 14,
   "metadata": {
    "tags": []
   },
   "outputs": [
    {
     "data": {
      "text/html": [
       "<div>\n",
       "<style scoped>\n",
       "    .dataframe tbody tr th:only-of-type {\n",
       "        vertical-align: middle;\n",
       "    }\n",
       "\n",
       "    .dataframe tbody tr th {\n",
       "        vertical-align: top;\n",
       "    }\n",
       "\n",
       "    .dataframe thead th {\n",
       "        text-align: right;\n",
       "    }\n",
       "</style>\n",
       "<table border=\"1\" class=\"dataframe\">\n",
       "  <thead>\n",
       "    <tr style=\"text-align: right;\">\n",
       "      <th></th>\n",
       "      <th>title</th>\n",
       "    </tr>\n",
       "  </thead>\n",
       "  <tbody>\n",
       "    <tr>\n",
       "      <th>0</th>\n",
       "      <td>Single bedroom</td>\n",
       "    </tr>\n",
       "    <tr>\n",
       "      <th>1</th>\n",
       "      <td>Single room</td>\n",
       "    </tr>\n",
       "    <tr>\n",
       "      <th>2</th>\n",
       "      <td>Double room</td>\n",
       "    </tr>\n",
       "    <tr>\n",
       "      <th>3</th>\n",
       "      <td>Bright double room</td>\n",
       "    </tr>\n",
       "    <tr>\n",
       "      <th>4</th>\n",
       "      <td>3-bedroom house</td>\n",
       "    </tr>\n",
       "    <tr>\n",
       "      <th>...</th>\n",
       "      <td>...</td>\n",
       "    </tr>\n",
       "    <tr>\n",
       "      <th>223</th>\n",
       "      <td>Single room in East London</td>\n",
       "    </tr>\n",
       "    <tr>\n",
       "      <th>224</th>\n",
       "      <td>Private double room with private bathroom</td>\n",
       "    </tr>\n",
       "    <tr>\n",
       "      <th>225</th>\n",
       "      <td>Double room to rent</td>\n",
       "    </tr>\n",
       "    <tr>\n",
       "      <th>226</th>\n",
       "      <td>Lovely Double Room</td>\n",
       "    </tr>\n",
       "    <tr>\n",
       "      <th>227</th>\n",
       "      <td>Modern two bedroom flat</td>\n",
       "    </tr>\n",
       "  </tbody>\n",
       "</table>\n",
       "<p>228 rows × 1 columns</p>\n",
       "</div>"
      ],
      "text/plain": [
       "                                         title\n",
       "0                               Single bedroom\n",
       "1                                  Single room\n",
       "2                                  Double room\n",
       "3                           Bright double room\n",
       "4                              3-bedroom house\n",
       "..                                         ...\n",
       "223                 Single room in East London\n",
       "224  Private double room with private bathroom\n",
       "225                        Double room to rent\n",
       "226                         Lovely Double Room\n",
       "227                    Modern two bedroom flat\n",
       "\n",
       "[228 rows x 1 columns]"
      ]
     },
     "execution_count": 14,
     "metadata": {},
     "output_type": "execute_result"
    }
   ],
   "source": [
    "pd.merge(tgt[['title']][:n].drop_duplicates(), syn[['title']][:n].drop_duplicates())"
   ]
  },
  {
   "cell_type": "markdown",
   "metadata": {},
   "source": [
    "We can see that exact matches between original and synthetic data can occur. However, they occur only for the most commonly used descriptions, and they do not occur more often than they occur in the original data itself.\n",
    "\n",
    "Thus, it's important to note, that matchinig values or matching complete records are by themselves not a sign of privacy leak. They are only an issue if they occur more frequently than we would expect based on the original dataset. Also note that removing those exact matches via post-processing would have a detrimental contrary effect. The absence of a value like \"Lovely single room\" in a sufficiently large synthetic text corpus would in this case actually give away the fact that this sentence was present in the original. See [[1](#refs)] respectively [[2](#refs)] for more background info on this aspect."
   ]
  },
  {
   "cell_type": "markdown",
   "metadata": {},
   "source": [
    "### Analyze Price vs. Text correlation"
   ]
  },
  {
   "cell_type": "code",
   "execution_count": 15,
   "metadata": {
    "tags": []
   },
   "outputs": [
    {
     "name": "stdout",
     "output_type": "stream",
     "text": [
      "Median Price of original Listings, that contain `luxury`: $180\n",
      "Median Price of synthetic Listings, that contain `luxury`: $175\n",
      "\n",
      "Median Price of original Listings, that contain `stylish`: $134\n",
      "Median Price of synthetic Listings, that contain `stylish`: $128\n",
      "\n",
      "Median Price of original Listings, that contain `cozy`: $70\n",
      "Median Price of synthetic Listings, that contain `cozy`: $75\n",
      "\n",
      "Median Price of original Listings, that contain `small`: $55\n",
      "Median Price of synthetic Listings, that contain `small`: $58\n",
      "\n"
     ]
    }
   ],
   "source": [
    "tgt_term_price = tgt[['terms', 'price']].explode(column='terms').groupby('terms')['price'].median()\n",
    "syn_term_price = syn[['terms', 'price']].explode(column='terms').groupby('terms')['price'].median()\n",
    "def print_term_price(term):\n",
    "    print(f\"Median Price of original Listings, that contain `{term}`: ${tgt_term_price[term]:.0f}\")\n",
    "    print(f\"Median Price of synthetic Listings, that contain `{term}`: ${syn_term_price[term]:.0f}\")\n",
    "    print(\"\")\n",
    "\n",
    "print_term_price(\"luxury\")\n",
    "print_term_price(\"stylish\")\n",
    "print_term_price(\"cozy\")\n",
    "print_term_price(\"small\")"
   ]
  },
  {
   "cell_type": "markdown",
   "metadata": {},
   "source": [
    "We can see that correlations between Term occurence and the price per night, are also very well retained."
   ]
  },
  {
   "cell_type": "markdown",
   "metadata": {
    "id": "eQMOiU1Bv6W4"
   },
   "source": [
    "## Conclusion\n",
    "\n",
    "This tutorial demonstrated how synthetic text can be generated wihtin the context of an otherwise structured dataset. We analyzed the generated texts, and validated that characters and terms occur with the same frequency, while exact matches do not occur anymore likely than within the actual text itself.\n",
    "\n",
    "This feature thus allows to retain valuable statistical insights, typically burried away in free text columns, that remain inaccessible due to their privacy sensitive nature."
   ]
  },
  {
   "cell_type": "markdown",
   "metadata": {},
   "source": [
    "## Further exercises\n",
    "\n",
    "In addition to walking through the above instructions, we suggest..\n",
    "* analyzing further correlations, also for `host_name`\n",
    "* using a different generation mood, eg. conservative sampling\n",
    "* using a different dataset, eg. the Austrian First Name [[3](#refs)]"
   ]
  },
  {
   "cell_type": "markdown",
   "metadata": {
    "id": "UW5ntiUB18yP"
   },
   "source": [
    "## References<a class=\"anchor\" name=\"refs\"></a>\n",
    "\n",
    "1. https://github.com/mostly-ai/public-demo-data/blob/dev/firstnames_at/firstnames_at.csv.gz\n",
    "1. https://www.frontiersin.org/articles/10.3389/fdata.2021.679939/full\n",
    "1. https://mostly.ai/blog/truly-anonymous-synthetic-data-legal-definitions-part-ii/"
   ]
  }
 ],
 "metadata": {
  "colab": {
   "provenance": []
  },
  "kernelspec": {
   "display_name": "Python 3 (ipykernel)",
   "language": "python",
   "name": "python3"
  },
  "language_info": {
   "codemirror_mode": {
    "name": "ipython",
    "version": 3
   },
   "file_extension": ".py",
   "mimetype": "text/x-python",
   "name": "python",
   "nbconvert_exporter": "python",
   "pygments_lexer": "ipython3",
   "version": "3.12.0"
  }
 },
 "nbformat": 4,
 "nbformat_minor": 4
}
