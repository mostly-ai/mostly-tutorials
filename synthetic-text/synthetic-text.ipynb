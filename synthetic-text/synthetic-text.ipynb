{
 "cells": [
  {
   "cell_type": "markdown",
   "metadata": {
    "id": "uUvsR-mWBoNS"
   },
   "source": [
    "# Synthetic Text Generation\n",
    "\n",
    "In this notebook, we demonstrate how to synthesize free text columns, and will furthermore explore its quality.\n",
    "\n",
    "For further background see also [this blog post](https://mostly.ai/blog/synthetic-data-for-text-annotation/) on \"How To Scale Up Your Text Annotation Initiatives with Synthetic Text\"."
   ]
  },
  {
   "cell_type": "markdown",
   "metadata": {
    "id": "MKRa93uuSqZS"
   },
   "source": [
    "## Synthesize Data via MOSTLY AI\n",
    "\n",
    "1. Download `london.csv` by clicking [here](https://github.com/mostly-ai/mostly-tutorials/raw/dev/synthetic-text/london.csv), and pressing Ctrl+S to save the file locally.\n",
    "\n",
    "2. Synthesize `london.csv` via [MOSTLY AI](https://mostly.ai/), and configure `host_name` and `title` as Encoding Type `Text` \n",
    "\n",
    "3. Once the job has finished, which might take up to 1 hour, download the generated synthetic data as CSV file to your computer.\n",
    "\n",
    "4. Upload the generated synthetic data to this Notebook via executing the next cell."
   ]
  },
  {
   "cell_type": "code",
   "execution_count": 1,
   "metadata": {
    "colab": {
     "base_uri": "https://localhost:8080/",
     "height": 89
    },
    "id": "W4IDNOIyPW7L",
    "outputId": "413106b9-de23-441b-ae27-f6efe45085a6",
    "tags": []
   },
   "outputs": [
    {
     "name": "stdout",
     "output_type": "stream",
     "text": [
      "running in LOCAL mode\n",
      "adapt `syn_file_path` to point to your generated synthetic data file\n",
      "read synthetic data with 71,938 records and 6 attributes\n",
      "read original data with 71,938 records and 6 attributes\n"
     ]
    }
   ],
   "source": [
    "# upload synthetic dataset\n",
    "import pandas as pd\n",
    "try:\n",
    "    # check whether we are in Google colab\n",
    "    from google.colab import files\n",
    "    print(\"running in COLAB mode\")\n",
    "    repo = 'https://github.com/mostly-ai/mostly-tutorials/raw/dev/synthetic-text'\n",
    "    import io\n",
    "    uploaded = files.upload()\n",
    "    syn = pd.read_csv(io.BytesIO(list(uploaded.values())[0]))\n",
    "    print(f\"uploaded synthetic data with {syn.shape[0]:,} records and {syn.shape[1]:,} attributes\")\n",
    "except:\n",
    "    print(\"running in LOCAL mode\")\n",
    "    repo = '.'\n",
    "    print(\"adapt `syn_file_path` to point to your generated synthetic data file\")\n",
    "    syn_file_path = './london-synthetic-representative.csv'\n",
    "    syn = pd.read_csv(syn_file_path)\n",
    "    print(f\"read synthetic data with {syn.shape[0]:,} records and {syn.shape[1]:,} attributes\")\n",
    "    \n",
    "tgt = pd.read_csv(f'{repo}/london.csv')\n",
    "print(f\"read original data with {tgt.shape[0]:,} records and {tgt.shape[1]:,} attributes\")"
   ]
  },
  {
   "cell_type": "markdown",
   "metadata": {
    "id": "OgvJ0XoWTHoX"
   },
   "source": [
    "## Explore Synthetic Text\n",
    "\n",
    "Show 10 randomly sampled synthetic records. Note, that you can execute the following cell multiple times, to see different samples."
   ]
  },
  {
   "cell_type": "code",
   "execution_count": 2,
   "metadata": {
    "tags": []
   },
   "outputs": [
    {
     "data": {
      "text/html": [
       "<div>\n",
       "<style scoped>\n",
       "    .dataframe tbody tr th:only-of-type {\n",
       "        vertical-align: middle;\n",
       "    }\n",
       "\n",
       "    .dataframe tbody tr th {\n",
       "        vertical-align: top;\n",
       "    }\n",
       "\n",
       "    .dataframe thead th {\n",
       "        text-align: right;\n",
       "    }\n",
       "</style>\n",
       "<table border=\"1\" class=\"dataframe\">\n",
       "  <thead>\n",
       "    <tr style=\"text-align: right;\">\n",
       "      <th></th>\n",
       "      <th>host_name</th>\n",
       "      <th>title</th>\n",
       "      <th>property_type</th>\n",
       "      <th>room_type</th>\n",
       "      <th>neighbourhood</th>\n",
       "      <th>price</th>\n",
       "    </tr>\n",
       "  </thead>\n",
       "  <tbody>\n",
       "    <tr>\n",
       "      <th>63445</th>\n",
       "      <td>Elya</td>\n",
       "      <td>Spacious Room in Greater London</td>\n",
       "      <td>Private room in home</td>\n",
       "      <td>Private room</td>\n",
       "      <td>Bexley</td>\n",
       "      <td>25</td>\n",
       "    </tr>\n",
       "    <tr>\n",
       "      <th>2757</th>\n",
       "      <td>Mda</td>\n",
       "      <td>Luxury Georgian Apartment in Pimlico Marylebon...</td>\n",
       "      <td>Entire rental unit</td>\n",
       "      <td>Entire home/apt</td>\n",
       "      <td>Westminster</td>\n",
       "      <td>186</td>\n",
       "    </tr>\n",
       "    <tr>\n",
       "      <th>31262</th>\n",
       "      <td>Jacqueline</td>\n",
       "      <td>Blackheath4 bedroom house with garden</td>\n",
       "      <td>Entire townhouse</td>\n",
       "      <td>Entire home/apt</td>\n",
       "      <td>Waltham Forest</td>\n",
       "      <td>349</td>\n",
       "    </tr>\n",
       "    <tr>\n",
       "      <th>57245</th>\n",
       "      <td>Constantinana</td>\n",
       "      <td>Bright house in the the heart of G10</td>\n",
       "      <td>Private room in rental unit</td>\n",
       "      <td>Private room</td>\n",
       "      <td>Kensington and Chelsea</td>\n",
       "      <td>80</td>\n",
       "    </tr>\n",
       "    <tr>\n",
       "      <th>32643</th>\n",
       "      <td>Adedrehan</td>\n",
       "      <td>Creative hiderfront Mezzanine, large room.</td>\n",
       "      <td>Private room in rental unit</td>\n",
       "      <td>Private room</td>\n",
       "      <td>Merton</td>\n",
       "      <td>30</td>\n",
       "    </tr>\n",
       "    <tr>\n",
       "      <th>61947</th>\n",
       "      <td>Iwona</td>\n",
       "      <td>3 Bed 2Bath Apartment Soho - Zone 2!</td>\n",
       "      <td>Entire condo</td>\n",
       "      <td>Entire home/apt</td>\n",
       "      <td>Camden</td>\n",
       "      <td>750</td>\n",
       "    </tr>\n",
       "    <tr>\n",
       "      <th>33524</th>\n",
       "      <td>Lara</td>\n",
       "      <td>Stunning room in the heart of London</td>\n",
       "      <td>Private room in rental unit</td>\n",
       "      <td>Private room</td>\n",
       "      <td>Westminster</td>\n",
       "      <td>24</td>\n",
       "    </tr>\n",
       "    <tr>\n",
       "      <th>50758</th>\n",
       "      <td>Quad</td>\n",
       "      <td>CONARTELYt FLAND  2 Bedroom apartment</td>\n",
       "      <td>Entire rental unit</td>\n",
       "      <td>Entire home/apt</td>\n",
       "      <td>Hounslow</td>\n",
       "      <td>83</td>\n",
       "    </tr>\n",
       "    <tr>\n",
       "      <th>53805</th>\n",
       "      <td>Jillabo</td>\n",
       "      <td>In Suburbings Luxury by River Thames &amp; tubem</td>\n",
       "      <td>Entire home</td>\n",
       "      <td>Entire home/apt</td>\n",
       "      <td>Hounslow</td>\n",
       "      <td>270</td>\n",
       "    </tr>\n",
       "    <tr>\n",
       "      <th>3598</th>\n",
       "      <td>Michelle</td>\n",
       "      <td>Beautiful Interior Designedist Maisonette in C...</td>\n",
       "      <td>Entire villa</td>\n",
       "      <td>Entire home/apt</td>\n",
       "      <td>Kensington and Chelsea</td>\n",
       "      <td>474</td>\n",
       "    </tr>\n",
       "  </tbody>\n",
       "</table>\n",
       "</div>"
      ],
      "text/plain": [
       "           host_name                                              title  \\\n",
       "63445           Elya                    Spacious Room in Greater London   \n",
       "2757             Mda  Luxury Georgian Apartment in Pimlico Marylebon...   \n",
       "31262     Jacqueline              Blackheath4 bedroom house with garden   \n",
       "57245  Constantinana               Bright house in the the heart of G10   \n",
       "32643      Adedrehan         Creative hiderfront Mezzanine, large room.   \n",
       "61947          Iwona               3 Bed 2Bath Apartment Soho - Zone 2!   \n",
       "33524           Lara               Stunning room in the heart of London   \n",
       "50758           Quad              CONARTELYt FLAND  2 Bedroom apartment   \n",
       "53805        Jillabo       In Suburbings Luxury by River Thames & tubem   \n",
       "3598        Michelle  Beautiful Interior Designedist Maisonette in C...   \n",
       "\n",
       "                     property_type        room_type           neighbourhood  \\\n",
       "63445         Private room in home     Private room                  Bexley   \n",
       "2757            Entire rental unit  Entire home/apt             Westminster   \n",
       "31262             Entire townhouse  Entire home/apt          Waltham Forest   \n",
       "57245  Private room in rental unit     Private room  Kensington and Chelsea   \n",
       "32643  Private room in rental unit     Private room                  Merton   \n",
       "61947                 Entire condo  Entire home/apt                  Camden   \n",
       "33524  Private room in rental unit     Private room             Westminster   \n",
       "50758           Entire rental unit  Entire home/apt                Hounslow   \n",
       "53805                  Entire home  Entire home/apt                Hounslow   \n",
       "3598                  Entire villa  Entire home/apt  Kensington and Chelsea   \n",
       "\n",
       "       price  \n",
       "63445     25  \n",
       "2757     186  \n",
       "31262    349  \n",
       "57245     80  \n",
       "32643     30  \n",
       "61947    750  \n",
       "33524     24  \n",
       "50758     83  \n",
       "53805    270  \n",
       "3598     474  "
      ]
     },
     "execution_count": 2,
     "metadata": {},
     "output_type": "execute_result"
    }
   ],
   "source": [
    "syn.sample(n=10)"
   ]
  },
  {
   "cell_type": "markdown",
   "metadata": {},
   "source": [
    "Compare this to 10 randomly sampled original records."
   ]
  },
  {
   "cell_type": "code",
   "execution_count": 3,
   "metadata": {
    "tags": []
   },
   "outputs": [
    {
     "data": {
      "text/html": [
       "<div>\n",
       "<style scoped>\n",
       "    .dataframe tbody tr th:only-of-type {\n",
       "        vertical-align: middle;\n",
       "    }\n",
       "\n",
       "    .dataframe tbody tr th {\n",
       "        vertical-align: top;\n",
       "    }\n",
       "\n",
       "    .dataframe thead th {\n",
       "        text-align: right;\n",
       "    }\n",
       "</style>\n",
       "<table border=\"1\" class=\"dataframe\">\n",
       "  <thead>\n",
       "    <tr style=\"text-align: right;\">\n",
       "      <th></th>\n",
       "      <th>host_name</th>\n",
       "      <th>title</th>\n",
       "      <th>property_type</th>\n",
       "      <th>room_type</th>\n",
       "      <th>neighbourhood</th>\n",
       "      <th>price</th>\n",
       "    </tr>\n",
       "  </thead>\n",
       "  <tbody>\n",
       "    <tr>\n",
       "      <th>30652</th>\n",
       "      <td>GoUn</td>\n",
       "      <td>Spacious Ensuite Double Bedroom / Victorian House</td>\n",
       "      <td>Private room in home</td>\n",
       "      <td>Private room</td>\n",
       "      <td>Hammersmith and Fulham</td>\n",
       "      <td>34</td>\n",
       "    </tr>\n",
       "    <tr>\n",
       "      <th>16766</th>\n",
       "      <td>Richard</td>\n",
       "      <td>Comfortable Double Bedroom in Notting Hill</td>\n",
       "      <td>Private room in rental unit</td>\n",
       "      <td>Private room</td>\n",
       "      <td>Kensington and Chelsea</td>\n",
       "      <td>44</td>\n",
       "    </tr>\n",
       "    <tr>\n",
       "      <th>45031</th>\n",
       "      <td>Andy</td>\n",
       "      <td>1 Bed Apartment in Romford by Space Apartments</td>\n",
       "      <td>Entire condo</td>\n",
       "      <td>Entire home/apt</td>\n",
       "      <td>Havering</td>\n",
       "      <td>109</td>\n",
       "    </tr>\n",
       "    <tr>\n",
       "      <th>47347</th>\n",
       "      <td>Sam</td>\n",
       "      <td>Spacious Two Bedroom Apartment in Wood Green</td>\n",
       "      <td>Entire rental unit</td>\n",
       "      <td>Entire home/apt</td>\n",
       "      <td>Haringey</td>\n",
       "      <td>161</td>\n",
       "    </tr>\n",
       "    <tr>\n",
       "      <th>27996</th>\n",
       "      <td>Jason</td>\n",
       "      <td>Fresh and modern flat in Chiswick London.</td>\n",
       "      <td>Entire rental unit</td>\n",
       "      <td>Entire home/apt</td>\n",
       "      <td>Hounslow</td>\n",
       "      <td>182</td>\n",
       "    </tr>\n",
       "    <tr>\n",
       "      <th>70707</th>\n",
       "      <td>Waleed</td>\n",
       "      <td>Lovely Flat in London-Southfield</td>\n",
       "      <td>Entire rental unit</td>\n",
       "      <td>Entire home/apt</td>\n",
       "      <td>Wandsworth</td>\n",
       "      <td>85</td>\n",
       "    </tr>\n",
       "    <tr>\n",
       "      <th>41535</th>\n",
       "      <td>Lennart</td>\n",
       "      <td>Luxury accommodation near Tower Bridge</td>\n",
       "      <td>Entire condo</td>\n",
       "      <td>Entire home/apt</td>\n",
       "      <td>Tower Hamlets</td>\n",
       "      <td>100</td>\n",
       "    </tr>\n",
       "    <tr>\n",
       "      <th>49209</th>\n",
       "      <td>Alex</td>\n",
       "      <td>Double room in Victorian house - Central Londo...</td>\n",
       "      <td>Private room in condo</td>\n",
       "      <td>Private room</td>\n",
       "      <td>Islington</td>\n",
       "      <td>99</td>\n",
       "    </tr>\n",
       "    <tr>\n",
       "      <th>38164</th>\n",
       "      <td>Lucy</td>\n",
       "      <td>Beautiful Clapham Flat close to the Common</td>\n",
       "      <td>Entire rental unit</td>\n",
       "      <td>Entire home/apt</td>\n",
       "      <td>Lambeth</td>\n",
       "      <td>130</td>\n",
       "    </tr>\n",
       "    <tr>\n",
       "      <th>54921</th>\n",
       "      <td>Gabriel</td>\n",
       "      <td>Clean Double Room for rent in Cosy House House</td>\n",
       "      <td>Private room in home</td>\n",
       "      <td>Private room</td>\n",
       "      <td>Croydon</td>\n",
       "      <td>300</td>\n",
       "    </tr>\n",
       "  </tbody>\n",
       "</table>\n",
       "</div>"
      ],
      "text/plain": [
       "      host_name                                              title  \\\n",
       "30652      GoUn  Spacious Ensuite Double Bedroom / Victorian House   \n",
       "16766   Richard         Comfortable Double Bedroom in Notting Hill   \n",
       "45031      Andy     1 Bed Apartment in Romford by Space Apartments   \n",
       "47347       Sam       Spacious Two Bedroom Apartment in Wood Green   \n",
       "27996     Jason          Fresh and modern flat in Chiswick London.   \n",
       "70707    Waleed                   Lovely Flat in London-Southfield   \n",
       "41535   Lennart             Luxury accommodation near Tower Bridge   \n",
       "49209      Alex  Double room in Victorian house - Central Londo...   \n",
       "38164      Lucy         Beautiful Clapham Flat close to the Common   \n",
       "54921   Gabriel     Clean Double Room for rent in Cosy House House   \n",
       "\n",
       "                     property_type        room_type           neighbourhood  \\\n",
       "30652         Private room in home     Private room  Hammersmith and Fulham   \n",
       "16766  Private room in rental unit     Private room  Kensington and Chelsea   \n",
       "45031                 Entire condo  Entire home/apt                Havering   \n",
       "47347           Entire rental unit  Entire home/apt                Haringey   \n",
       "27996           Entire rental unit  Entire home/apt                Hounslow   \n",
       "70707           Entire rental unit  Entire home/apt              Wandsworth   \n",
       "41535                 Entire condo  Entire home/apt           Tower Hamlets   \n",
       "49209        Private room in condo     Private room               Islington   \n",
       "38164           Entire rental unit  Entire home/apt                 Lambeth   \n",
       "54921         Private room in home     Private room                 Croydon   \n",
       "\n",
       "       price  \n",
       "30652     34  \n",
       "16766     44  \n",
       "45031    109  \n",
       "47347    161  \n",
       "27996    182  \n",
       "70707     85  \n",
       "41535    100  \n",
       "49209     99  \n",
       "38164    130  \n",
       "54921    300  "
      ]
     },
     "execution_count": 3,
     "metadata": {},
     "output_type": "execute_result"
    }
   ],
   "source": [
    "tgt.sample(n=10)"
   ]
  },
  {
   "cell_type": "markdown",
   "metadata": {
    "tags": []
   },
   "source": [
    "### Inspect Character Set\n",
    "\n",
    "You will note, that the character set of the synthetic data is shorter. This is due to the privacy mechanism within the MOSTLY AI platform, where very rare tokens are being removed, to prevent that their presence give away information on the existence of individual records."
   ]
  },
  {
   "cell_type": "code",
   "execution_count": 4,
   "metadata": {
    "tags": []
   },
   "outputs": [
    {
     "name": "stdout",
     "output_type": "stream",
     "text": [
      "## ORIGINAL ##\n",
      "  !\"#$%&'()*+,-./0123456789:;<=>?@ABCDEFGHIJKLMNOPQRSTUVWXYZ[\\]^_`abcdefghijklmnopqrstuvwxyz{|}~ £¦¬®°²´·ÁÉÜàáâãäåçèéìíóôöùüİıœАБВГДЛНРСУабвгдежзийклмнопрстухцшыьюяבדהוחילםמןנעפצקרשתდღ ​‍–—‘’“”•…⁂⁉⁎₂₄₆₈™↑→│▶◀●◑☀☃★☆☑☝☯☸☺☻☼♂♔♕♖♗♚♛♜♝♞♟♡♥♦♪♫♬⚜⚡✅✈✔✦✧✨✩✪✭✮✯✰✵✹✽✾✿❀❁❃❄❆❖❣❤❥❦➊➋➍➔➕➡⟮⟯⬆⭐⭑、。』【】〔〕きなのイキスバムルレ・ー一三世东两中临主之乡二五亚交亮人他付们价伦位住你佳便個倫值備僅入全公共其净出分利别剩务包区區十华单南卧卫厅厨双受可台合和品啦四回园国國在地场型堡塔墅多大天套奢女好威子字学宅安实客室宮家宽宿密寓寧専小尔层居屋市希带帶常干年床店廁建异式德心念思性惠感我或房手抢拎招排政敞敦整文斯新方日明星是晶暑暖最月有服朝期本机极林格档桥梅梯極楼欢歐比民水河治沿洁洗洲济浴海清温源溫滨独王理生用电畔留白的短碼私租立站筑精素紧絕絲级线经维罗置联肯至舍舒英華萨融西觉計設語让象豪贝质超跨車转辦迎近适通速適還邻配酒金鐵钟长間间限院陽雀露静靜非頭馨高齊간개고공교근기깔깨끔끗뉴늑는단담더던독드든락랏럭런렛룸리멋몰베보브블빛살서셔소숙실아안역욕의이인잘장존진처캠크통트파편플하한햇화️﹢！（），［］ｘ～￼𝗕𝗥𝗦𝗮𝗱𝗲𝗴𝗵𝗶𝗹𝗻𝗼𝗿𝘀𝘁𝘂𝘃𝘄𝘆𝟯🅿🇦🇧🇪🇫🇬🇮🇷🇸🇺🌃🌆🌇🌈🌞🌟🌠🌱🌲🌳🌴🌵🌸🌹🌺🌻🌿🍃🍒🎀🎬🎯🎾🏆🏒🏘🏙🏛🏟🏠🏡🏳🏴🏻🏼🐈🐱🐶👌👍👑👥💂💎💐💕💖💗💙💚💛💜💤💫📍📶🔝🖼😊😍😴🙆🚀🚂🚆🚉🚊🚌🚍🚗🚞🚨🚲🛀🛋🛌🛍🛏🤩🤴🥇🥰🧡🪴󠁢󠁥󠁧󠁮󠁿 \n",
      "\n",
      "## SYNTHETIC ##\n",
      "  !\"#$%&'()*+,-./0123456789:;<=>?@ABCDEFGHIJKLMNOPQRSTUVWXYZ[\\]^_`abcdefghijklmnopqrstuvwxyz{|}~ £¦°²´·ÁÉÜàáåçèéìíóöùüİıœАВДСУавгдеийклнопртуюяיעდ​‍–—‘’“”•…⁂⁉₈↑│▶◑☀★☆☝☯☸☺☻☼♂♕♖♗♚♛♜♝♟♡♥♦♪♫♬⚡✈✔✦✧✨✩✪✮✯✰✵✹✿❀❁❃❄❆❖❣❤❦➊➍➔➕➡⟯⭐、』【〔・一东两中之二亚人价伦佳便倫備僅公利别剩区华单卫台四国地场型塔墅大天好学宅安室家宿密寓层市带床店心思性房抢排敦整期机极梯欢比济海生用的短碼租立精絲维罗肯至舍舒萨豪超近适通酒金鐵間间院陽雀静頭馨高던드든몰보의잘존캠햇️！（），［］𝘆🅿🇧🇪🇫🇬🇷🇸🌃🌆🌈🌞🌟🌠🌱🌲🌳🌴🌵🌿🎬🏘🏙🏡🏳🐱🐶👌👑💂💎💐💕💖💗💛📍🔝🖼😊😴🚀🚂🚍🚗🚲🛀🛌🛍🛏🤩🪴 \n",
      "\n"
     ]
    }
   ],
   "source": [
    "print('## ORIGINAL ##\\n', ''.join(sorted(list(set(tgt['title'].str.cat(sep=' '))))), '\\n')\n",
    "print('## SYNTHETIC ##\\n', ''.join(sorted(list(set(syn['title'].str.cat(sep=' '))))), '\\n')"
   ]
  },
  {
   "cell_type": "markdown",
   "metadata": {},
   "source": [
    "### Inspect Character Frequency"
   ]
  },
  {
   "cell_type": "code",
   "execution_count": 5,
   "metadata": {
    "tags": []
   },
   "outputs": [
    {
     "data": {
      "text/html": [
       "<div>\n",
       "<style scoped>\n",
       "    .dataframe tbody tr th:only-of-type {\n",
       "        vertical-align: middle;\n",
       "    }\n",
       "\n",
       "    .dataframe tbody tr th {\n",
       "        vertical-align: top;\n",
       "    }\n",
       "\n",
       "    .dataframe thead th {\n",
       "        text-align: right;\n",
       "    }\n",
       "</style>\n",
       "<table border=\"1\" class=\"dataframe\">\n",
       "  <thead>\n",
       "    <tr style=\"text-align: right;\">\n",
       "      <th></th>\n",
       "      <th>char</th>\n",
       "      <th>tgt</th>\n",
       "      <th>syn</th>\n",
       "    </tr>\n",
       "  </thead>\n",
       "  <tbody>\n",
       "    <tr>\n",
       "      <th>0</th>\n",
       "      <td></td>\n",
       "      <td>0.13409</td>\n",
       "      <td>0.13375</td>\n",
       "    </tr>\n",
       "    <tr>\n",
       "      <th>1</th>\n",
       "      <td>o</td>\n",
       "      <td>0.07679</td>\n",
       "      <td>0.07608</td>\n",
       "    </tr>\n",
       "    <tr>\n",
       "      <th>2</th>\n",
       "      <td>e</td>\n",
       "      <td>0.07653</td>\n",
       "      <td>0.07714</td>\n",
       "    </tr>\n",
       "    <tr>\n",
       "      <th>3</th>\n",
       "      <td>n</td>\n",
       "      <td>0.05957</td>\n",
       "      <td>0.05908</td>\n",
       "    </tr>\n",
       "    <tr>\n",
       "      <th>4</th>\n",
       "      <td>t</td>\n",
       "      <td>0.05645</td>\n",
       "      <td>0.05664</td>\n",
       "    </tr>\n",
       "    <tr>\n",
       "      <th>5</th>\n",
       "      <td>a</td>\n",
       "      <td>0.05333</td>\n",
       "      <td>0.05299</td>\n",
       "    </tr>\n",
       "    <tr>\n",
       "      <th>6</th>\n",
       "      <td>r</td>\n",
       "      <td>0.05044</td>\n",
       "      <td>0.05041</td>\n",
       "    </tr>\n",
       "    <tr>\n",
       "      <th>7</th>\n",
       "      <td></td>\n",
       "      <td>0.04836</td>\n",
       "      <td>0.04815</td>\n",
       "    </tr>\n",
       "    <tr>\n",
       "      <th>8</th>\n",
       "      <td>i</td>\n",
       "      <td>0.04755</td>\n",
       "      <td>0.04762</td>\n",
       "    </tr>\n",
       "    <tr>\n",
       "      <th>9</th>\n",
       "      <td>l</td>\n",
       "      <td>0.03462</td>\n",
       "      <td>0.03490</td>\n",
       "    </tr>\n",
       "  </tbody>\n",
       "</table>\n",
       "</div>"
      ],
      "text/plain": [
       "  char      tgt      syn\n",
       "0       0.13409  0.13375\n",
       "1    o  0.07679  0.07608\n",
       "2    e  0.07653  0.07714\n",
       "3    n  0.05957  0.05908\n",
       "4    t  0.05645  0.05664\n",
       "5    a  0.05333  0.05299\n",
       "6    r  0.05044  0.05041\n",
       "7       0.04836  0.04815\n",
       "8    i  0.04755  0.04762\n",
       "9    l  0.03462  0.03490"
      ]
     },
     "execution_count": 5,
     "metadata": {},
     "output_type": "execute_result"
    }
   ],
   "source": [
    "title_char_freq = pd.merge(\n",
    "    tgt['title'].str.split('').explode().value_counts(normalize=True).to_frame('tgt').reset_index(),\n",
    "    syn['title'].str.split('').explode().value_counts(normalize=True).to_frame('syn').reset_index(),\n",
    "    on='index', \n",
    "    how='outer'\n",
    ").rename(columns={'index': 'char'}).round(5)\n",
    "title_char_freq.head(10)"
   ]
  },
  {
   "cell_type": "code",
   "execution_count": 6,
   "metadata": {
    "tags": []
   },
   "outputs": [
    {
     "data": {
      "image/png": "[encoded data removed]",
      "text/plain": [
       "<Figure size 640x480 with 1 Axes>"
      ]
     },
     "metadata": {},
     "output_type": "display_data"
    }
   ],
   "source": [
    "import matplotlib.pyplot as plt\n",
    "ax = title_char_freq.head(100).plot.line()\n",
    "plt.title('Distribution of Char Frequencies')\n",
    "plt.show()"
   ]
  },
  {
   "cell_type": "markdown",
   "metadata": {},
   "source": [
    "We can see that Character Frequencies are perfectly retained."
   ]
  },
  {
   "cell_type": "markdown",
   "metadata": {
    "tags": []
   },
   "source": [
    "### Inspect Term Frequency"
   ]
  },
  {
   "cell_type": "code",
   "execution_count": 7,
   "metadata": {
    "tags": []
   },
   "outputs": [
    {
     "data": {
      "text/html": [
       "<div>\n",
       "<style scoped>\n",
       "    .dataframe tbody tr th:only-of-type {\n",
       "        vertical-align: middle;\n",
       "    }\n",
       "\n",
       "    .dataframe tbody tr th {\n",
       "        vertical-align: top;\n",
       "    }\n",
       "\n",
       "    .dataframe thead th {\n",
       "        text-align: right;\n",
       "    }\n",
       "</style>\n",
       "<table border=\"1\" class=\"dataframe\">\n",
       "  <thead>\n",
       "    <tr style=\"text-align: right;\">\n",
       "      <th></th>\n",
       "      <th>term</th>\n",
       "      <th>tgt</th>\n",
       "      <th>syn</th>\n",
       "    </tr>\n",
       "  </thead>\n",
       "  <tbody>\n",
       "    <tr>\n",
       "      <th>0</th>\n",
       "      <td>in</td>\n",
       "      <td>0.05441</td>\n",
       "      <td>0.05255</td>\n",
       "    </tr>\n",
       "    <tr>\n",
       "      <th>1</th>\n",
       "      <td>flat</td>\n",
       "      <td>0.03362</td>\n",
       "      <td>0.03136</td>\n",
       "    </tr>\n",
       "    <tr>\n",
       "      <th>2</th>\n",
       "      <td>room</td>\n",
       "      <td>0.03209</td>\n",
       "      <td>0.03420</td>\n",
       "    </tr>\n",
       "    <tr>\n",
       "      <th>3</th>\n",
       "      <td>london</td>\n",
       "      <td>0.02844</td>\n",
       "      <td>0.02692</td>\n",
       "    </tr>\n",
       "    <tr>\n",
       "      <th>4</th>\n",
       "      <td>bedroom</td>\n",
       "      <td>0.02788</td>\n",
       "      <td>0.02373</td>\n",
       "    </tr>\n",
       "    <tr>\n",
       "      <th>5</th>\n",
       "      <td>apartment</td>\n",
       "      <td>0.02130</td>\n",
       "      <td>0.01980</td>\n",
       "    </tr>\n",
       "    <tr>\n",
       "      <th>6</th>\n",
       "      <td>double</td>\n",
       "      <td>0.02063</td>\n",
       "      <td>0.02108</td>\n",
       "    </tr>\n",
       "    <tr>\n",
       "      <th>7</th>\n",
       "      <td>with</td>\n",
       "      <td>0.01868</td>\n",
       "      <td>0.01849</td>\n",
       "    </tr>\n",
       "    <tr>\n",
       "      <th>8</th>\n",
       "      <td>2</td>\n",
       "      <td>0.01759</td>\n",
       "      <td>0.01717</td>\n",
       "    </tr>\n",
       "    <tr>\n",
       "      <th>9</th>\n",
       "      <td>bed</td>\n",
       "      <td>0.01642</td>\n",
       "      <td>0.01753</td>\n",
       "    </tr>\n",
       "  </tbody>\n",
       "</table>\n",
       "</div>"
      ],
      "text/plain": [
       "        term      tgt      syn\n",
       "0         in  0.05441  0.05255\n",
       "1       flat  0.03362  0.03136\n",
       "2       room  0.03209  0.03420\n",
       "3     london  0.02844  0.02692\n",
       "4    bedroom  0.02788  0.02373\n",
       "5  apartment  0.02130  0.01980\n",
       "6     double  0.02063  0.02108\n",
       "7       with  0.01868  0.01849\n",
       "8          2  0.01759  0.01717\n",
       "9        bed  0.01642  0.01753"
      ]
     },
     "metadata": {},
     "output_type": "display_data"
    },
    {
     "data": {
      "text/html": [
       "<div>\n",
       "<style scoped>\n",
       "    .dataframe tbody tr th:only-of-type {\n",
       "        vertical-align: middle;\n",
       "    }\n",
       "\n",
       "    .dataframe tbody tr th {\n",
       "        vertical-align: top;\n",
       "    }\n",
       "\n",
       "    .dataframe thead th {\n",
       "        text-align: right;\n",
       "    }\n",
       "</style>\n",
       "<table border=\"1\" class=\"dataframe\">\n",
       "  <thead>\n",
       "    <tr style=\"text-align: right;\">\n",
       "      <th></th>\n",
       "      <th>term</th>\n",
       "      <th>tgt</th>\n",
       "      <th>syn</th>\n",
       "    </tr>\n",
       "  </thead>\n",
       "  <tbody>\n",
       "    <tr>\n",
       "      <th>190</th>\n",
       "      <td>twin</td>\n",
       "      <td>0.00070</td>\n",
       "      <td>0.00086</td>\n",
       "    </tr>\n",
       "    <tr>\n",
       "      <th>191</th>\n",
       "      <td>2br</td>\n",
       "      <td>0.00070</td>\n",
       "      <td>0.00084</td>\n",
       "    </tr>\n",
       "    <tr>\n",
       "      <th>192</th>\n",
       "      <td>unique</td>\n",
       "      <td>0.00069</td>\n",
       "      <td>0.00049</td>\n",
       "    </tr>\n",
       "    <tr>\n",
       "      <th>193</th>\n",
       "      <td>soho</td>\n",
       "      <td>0.00068</td>\n",
       "      <td>0.00070</td>\n",
       "    </tr>\n",
       "    <tr>\n",
       "      <th>194</th>\n",
       "      <td>canal</td>\n",
       "      <td>0.00068</td>\n",
       "      <td>0.00091</td>\n",
       "    </tr>\n",
       "    <tr>\n",
       "      <th>195</th>\n",
       "      <td>leafy</td>\n",
       "      <td>0.00067</td>\n",
       "      <td>0.00062</td>\n",
       "    </tr>\n",
       "    <tr>\n",
       "      <th>196</th>\n",
       "      <td>rent</td>\n",
       "      <td>0.00067</td>\n",
       "      <td>0.00076</td>\n",
       "    </tr>\n",
       "    <tr>\n",
       "      <th>197</th>\n",
       "      <td>cottage</td>\n",
       "      <td>0.00067</td>\n",
       "      <td>0.00073</td>\n",
       "    </tr>\n",
       "    <tr>\n",
       "      <th>198</th>\n",
       "      <td>excel</td>\n",
       "      <td>0.00067</td>\n",
       "      <td>0.00073</td>\n",
       "    </tr>\n",
       "    <tr>\n",
       "      <th>199</th>\n",
       "      <td>mews</td>\n",
       "      <td>0.00067</td>\n",
       "      <td>0.00071</td>\n",
       "    </tr>\n",
       "  </tbody>\n",
       "</table>\n",
       "</div>"
      ],
      "text/plain": [
       "        term      tgt      syn\n",
       "190     twin  0.00070  0.00086\n",
       "191      2br  0.00070  0.00084\n",
       "192   unique  0.00069  0.00049\n",
       "193     soho  0.00068  0.00070\n",
       "194    canal  0.00068  0.00091\n",
       "195    leafy  0.00067  0.00062\n",
       "196     rent  0.00067  0.00076\n",
       "197  cottage  0.00067  0.00073\n",
       "198    excel  0.00067  0.00073\n",
       "199     mews  0.00067  0.00071"
      ]
     },
     "metadata": {},
     "output_type": "display_data"
    }
   ],
   "source": [
    "import re\n",
    "def sanitize(s):\n",
    "    s = str(s).lower()\n",
    "    s = re.sub('[\\\\,\\\\.\\\\)\\\\(\\\\!\\\\\"\\\\:\\\\/]', ' ', s)\n",
    "    s = re.sub('[ ]+', ' ', s)\n",
    "    return s\n",
    "\n",
    "tgt['terms'] = tgt['title'].apply(lambda x: sanitize(x)).str.split(' ')\n",
    "syn['terms'] = syn['title'].apply(lambda x: sanitize(x)).str.split(' ')\n",
    "    \n",
    "title_term_freq = pd.merge(\n",
    "    tgt['terms'].explode().value_counts(normalize=True).to_frame('tgt').reset_index(),\n",
    "    syn['terms'].explode().value_counts(normalize=True).to_frame('syn').reset_index(),\n",
    "    on='index', \n",
    "    how='outer'\n",
    ").rename(columns={'index': 'term'}).round(5)\n",
    "display(title_term_freq.head(10))\n",
    "display(title_term_freq.head(200).tail(10))"
   ]
  },
  {
   "cell_type": "code",
   "execution_count": 8,
   "metadata": {
    "tags": []
   },
   "outputs": [
    {
     "data": {
      "image/png": "[encoded data removed]",
      "text/plain": [
       "<Figure size 640x480 with 1 Axes>"
      ]
     },
     "metadata": {},
     "output_type": "display_data"
    }
   ],
   "source": [
    "ax = title_term_freq.head(100).plot.line()\n",
    "plt.title('Distribution of Term Frequencies')\n",
    "plt.show()"
   ]
  },
  {
   "cell_type": "markdown",
   "metadata": {},
   "source": [
    "We can see that Term Frequencies are perfectly retained."
   ]
  },
  {
   "cell_type": "markdown",
   "metadata": {
    "tags": []
   },
   "source": [
    "### Inspect Term Co-occurrence"
   ]
  },
  {
   "cell_type": "code",
   "execution_count": 9,
   "metadata": {
    "tags": []
   },
   "outputs": [
    {
     "name": "stdout",
     "output_type": "stream",
     "text": [
      "14% of actual Listings, that contain `bed`, also contain `double`\n",
      "13% of synthetic Listings, that contain `bed`, also contain `double`\n",
      "\n",
      "7% of actual Listings, that contain `bed`, also contain `king`\n",
      "6% of synthetic Listings, that contain `bed`, also contain `king`\n",
      "\n",
      "28% of actual Listings, that contain `heart`, also contain `london`\n",
      "26% of synthetic Listings, that contain `heart`, also contain `london`\n",
      "\n",
      "4% of actual Listings, that contain `london`, also contain `heart`\n",
      "4% of synthetic Listings, that contain `london`, also contain `heart`\n",
      "\n"
     ]
    }
   ],
   "source": [
    "def calc_conditional_probability(term1, term2):\n",
    "    tgt_beds = tgt['title'][tgt['title'].str.lower().str.contains(term1).fillna(False)]\n",
    "    syn_beds = syn['title'][syn['title'].str.lower().str.contains(term1).fillna(False)]\n",
    "    tgt_beds_double = tgt_beds.str.lower().str.contains(term2).mean()\n",
    "    syn_beds_double = syn_beds.str.lower().str.contains(term2).mean()\n",
    "    print(f\"{tgt_beds_double:.0%} of actual Listings, that contain `{term1}`, also contain `{term2}`\")\n",
    "    print(f\"{syn_beds_double:.0%} of synthetic Listings, that contain `{term1}`, also contain `{term2}`\")\n",
    "    print(\"\")\n",
    "\n",
    "calc_conditional_probability('bed', 'double')\n",
    "calc_conditional_probability('bed', 'king')\n",
    "calc_conditional_probability('heart', 'london')\n",
    "calc_conditional_probability('london', 'heart')"
   ]
  },
  {
   "cell_type": "markdown",
   "metadata": {},
   "source": [
    "We can see that Term Co-occurrences are perfectly retained."
   ]
  },
  {
   "cell_type": "markdown",
   "metadata": {
    "tags": []
   },
   "source": [
    "### Inspect Privacy via Exact Matches\n",
    "\n",
    "Let's perform a simplified check for privacy, by looking for exact matches between the synthetic and the original.\n",
    "\n",
    "For that we first split the original data into two equally-sized sets, and measure the number of matches between those two sets."
   ]
  },
  {
   "cell_type": "code",
   "execution_count": 10,
   "metadata": {
    "tags": []
   },
   "outputs": [
    {
     "data": {
      "text/html": [
       "<div>\n",
       "<style scoped>\n",
       "    .dataframe tbody tr th:only-of-type {\n",
       "        vertical-align: middle;\n",
       "    }\n",
       "\n",
       "    .dataframe tbody tr th {\n",
       "        vertical-align: top;\n",
       "    }\n",
       "\n",
       "    .dataframe thead th {\n",
       "        text-align: right;\n",
       "    }\n",
       "</style>\n",
       "<table border=\"1\" class=\"dataframe\">\n",
       "  <thead>\n",
       "    <tr style=\"text-align: right;\">\n",
       "      <th></th>\n",
       "      <th>title</th>\n",
       "    </tr>\n",
       "  </thead>\n",
       "  <tbody>\n",
       "    <tr>\n",
       "      <th>0</th>\n",
       "      <td>Cozy double room</td>\n",
       "    </tr>\n",
       "    <tr>\n",
       "      <th>1</th>\n",
       "      <td>Single room</td>\n",
       "    </tr>\n",
       "    <tr>\n",
       "      <th>2</th>\n",
       "      <td>Double room</td>\n",
       "    </tr>\n",
       "    <tr>\n",
       "      <th>3</th>\n",
       "      <td>Bright double room</td>\n",
       "    </tr>\n",
       "    <tr>\n",
       "      <th>4</th>\n",
       "      <td>Double Room in Victorian Terrace</td>\n",
       "    </tr>\n",
       "    <tr>\n",
       "      <th>...</th>\n",
       "      <td>...</td>\n",
       "    </tr>\n",
       "    <tr>\n",
       "      <th>318</th>\n",
       "      <td>Euston Square Hotel, Superior Double Room (2DX)</td>\n",
       "    </tr>\n",
       "    <tr>\n",
       "      <th>319</th>\n",
       "      <td>Furnished Flat in Central London, Edgware Road...</td>\n",
       "    </tr>\n",
       "    <tr>\n",
       "      <th>320</th>\n",
       "      <td>Double room to rent</td>\n",
       "    </tr>\n",
       "    <tr>\n",
       "      <th>321</th>\n",
       "      <td>Prime area, professional cleaning, high speed ...</td>\n",
       "    </tr>\n",
       "    <tr>\n",
       "      <th>322</th>\n",
       "      <td>Lovely Double Room</td>\n",
       "    </tr>\n",
       "  </tbody>\n",
       "</table>\n",
       "<p>323 rows × 1 columns</p>\n",
       "</div>"
      ],
      "text/plain": [
       "                                                 title\n",
       "0                                     Cozy double room\n",
       "1                                          Single room\n",
       "2                                          Double room\n",
       "3                                   Bright double room\n",
       "4                     Double Room in Victorian Terrace\n",
       "..                                                 ...\n",
       "318    Euston Square Hotel, Superior Double Room (2DX)\n",
       "319  Furnished Flat in Central London, Edgware Road...\n",
       "320                                Double room to rent\n",
       "321  Prime area, professional cleaning, high speed ...\n",
       "322                                 Lovely Double Room\n",
       "\n",
       "[323 rows x 1 columns]"
      ]
     },
     "execution_count": 10,
     "metadata": {},
     "output_type": "execute_result"
    }
   ],
   "source": [
    "n = int(tgt.shape[0]/2)\n",
    "pd.merge(tgt[['title']][:n].drop_duplicates(), tgt[['title']][n:].drop_duplicates())"
   ]
  },
  {
   "cell_type": "markdown",
   "metadata": {},
   "source": [
    "Next, we take an equally-sized subset of the synthetic data, and again measure the number of matches between that set and the original data."
   ]
  },
  {
   "cell_type": "code",
   "execution_count": 11,
   "metadata": {
    "tags": []
   },
   "outputs": [
    {
     "data": {
      "text/html": [
       "<div>\n",
       "<style scoped>\n",
       "    .dataframe tbody tr th:only-of-type {\n",
       "        vertical-align: middle;\n",
       "    }\n",
       "\n",
       "    .dataframe tbody tr th {\n",
       "        vertical-align: top;\n",
       "    }\n",
       "\n",
       "    .dataframe thead th {\n",
       "        text-align: right;\n",
       "    }\n",
       "</style>\n",
       "<table border=\"1\" class=\"dataframe\">\n",
       "  <thead>\n",
       "    <tr style=\"text-align: right;\">\n",
       "      <th></th>\n",
       "      <th>title</th>\n",
       "    </tr>\n",
       "  </thead>\n",
       "  <tbody>\n",
       "    <tr>\n",
       "      <th>0</th>\n",
       "      <td>Cozy double room</td>\n",
       "    </tr>\n",
       "    <tr>\n",
       "      <th>1</th>\n",
       "      <td>Spacious Double Room in East London</td>\n",
       "    </tr>\n",
       "    <tr>\n",
       "      <th>2</th>\n",
       "      <td>Single room</td>\n",
       "    </tr>\n",
       "    <tr>\n",
       "      <th>3</th>\n",
       "      <td>Double room</td>\n",
       "    </tr>\n",
       "    <tr>\n",
       "      <th>4</th>\n",
       "      <td>Bright double room</td>\n",
       "    </tr>\n",
       "    <tr>\n",
       "      <th>...</th>\n",
       "      <td>...</td>\n",
       "    </tr>\n",
       "    <tr>\n",
       "      <th>231</th>\n",
       "      <td>Home away from Home</td>\n",
       "    </tr>\n",
       "    <tr>\n",
       "      <th>232</th>\n",
       "      <td>Bright and cosy room</td>\n",
       "    </tr>\n",
       "    <tr>\n",
       "      <th>233</th>\n",
       "      <td>Rent</td>\n",
       "    </tr>\n",
       "    <tr>\n",
       "      <th>234</th>\n",
       "      <td>Lovely single room</td>\n",
       "    </tr>\n",
       "    <tr>\n",
       "      <th>235</th>\n",
       "      <td>Double Bed room</td>\n",
       "    </tr>\n",
       "  </tbody>\n",
       "</table>\n",
       "<p>236 rows × 1 columns</p>\n",
       "</div>"
      ],
      "text/plain": [
       "                                   title\n",
       "0                       Cozy double room\n",
       "1    Spacious Double Room in East London\n",
       "2                            Single room\n",
       "3                            Double room\n",
       "4                     Bright double room\n",
       "..                                   ...\n",
       "231                  Home away from Home\n",
       "232                 Bright and cosy room\n",
       "233                                 Rent\n",
       "234                   Lovely single room\n",
       "235                      Double Bed room\n",
       "\n",
       "[236 rows x 1 columns]"
      ]
     },
     "execution_count": 11,
     "metadata": {},
     "output_type": "execute_result"
    }
   ],
   "source": [
    "pd.merge(tgt[['title']][:n].drop_duplicates(), syn[['title']][:n].drop_duplicates())"
   ]
  },
  {
   "cell_type": "markdown",
   "metadata": {},
   "source": [
    "We can see that exact matches between original and synthetic data can occur. However, they occur only for the most commonly used descriptions, and they do not occur more often than they occur in the original data itself.\n",
    "\n",
    "Thus, it's important to note, that matchinig values or matching complete records are by themselves not a sign of privacy leak. They are only an issue if they occur more frequently than we would expect based on the original dataset. Also note that removing those exact matches via post-processing would have a detrimental contrary effect. The absence of a value like \"Lovely single room\" in a sufficiently large synthetic text corpus would in this case actually give away the fact that this sentence was present in the original. See [[1](#refs)] respectively [[2](#refs)] for more background info on this aspect."
   ]
  },
  {
   "cell_type": "markdown",
   "metadata": {},
   "source": [
    "### Analyze Price vs. Text correlation"
   ]
  },
  {
   "cell_type": "code",
   "execution_count": 12,
   "metadata": {
    "tags": []
   },
   "outputs": [
    {
     "name": "stdout",
     "output_type": "stream",
     "text": [
      "Median Price of actual Listings, that contain `luxury`: $180\n",
      "Median Price of synthetic Listings, that contain `luxury`: $179\n",
      "\n",
      "Median Price of actual Listings, that contain `stylish`: $134\n",
      "Median Price of synthetic Listings, that contain `stylish`: $140\n",
      "\n",
      "Median Price of actual Listings, that contain `cozy`: $70\n",
      "Median Price of synthetic Listings, that contain `cozy`: $70\n",
      "\n",
      "Median Price of actual Listings, that contain `small`: $55\n",
      "Median Price of synthetic Listings, that contain `small`: $60\n",
      "\n"
     ]
    }
   ],
   "source": [
    "tgt_term_price = tgt[['terms', 'price']].explode(column='terms').groupby('terms')['price'].median()\n",
    "syn_term_price = syn[['terms', 'price']].explode(column='terms').groupby('terms')['price'].median()\n",
    "def print_term_price(term):\n",
    "    print(f\"Median Price of actual Listings, that contain `{term}`: ${tgt_term_price[term]:.0f}\")\n",
    "    print(f\"Median Price of synthetic Listings, that contain `{term}`: ${syn_term_price[term]:.0f}\")\n",
    "    print(\"\")\n",
    "\n",
    "print_term_price(\"luxury\")\n",
    "print_term_price(\"stylish\")\n",
    "print_term_price(\"cozy\")\n",
    "print_term_price(\"small\")"
   ]
  },
  {
   "cell_type": "markdown",
   "metadata": {},
   "source": [
    "We can see that correlations between Term occurence and the price per night, are also perfectly retained."
   ]
  },
  {
   "cell_type": "markdown",
   "metadata": {
    "id": "eQMOiU1Bv6W4"
   },
   "source": [
    "## Conclusion\n",
    "\n",
    "This tutorial demonstrated how synthetic text can be generated wihtin the context of an otherwise structured dataset. We analyzed the generated texts, and validated that characters and terms occur with the same frequency, while exact matches do not occur anymore likely than within the actual text itself.\n",
    "\n",
    "This feature thus allows to retain valuable statistical insights, typically burried away in free text columns, that remain inaccessible due to their privacy sensitive nature."
   ]
  },
  {
   "cell_type": "markdown",
   "metadata": {},
   "source": [
    "## Further exercises\n",
    "\n",
    "In addition to walking through the above instructions, we suggest..\n",
    "* analyzing further correlations, also for `host_name`\n",
    "* using a different generation mood, eg. conservative sampling\n",
    "* using a different dataset, eg. the Austrian First Name [[3](#refs)]"
   ]
  },
  {
   "cell_type": "markdown",
   "metadata": {
    "id": "UW5ntiUB18yP"
   },
   "source": [
    "## References<a class=\"anchor\" name=\"refs\"></a>\n",
    "\n",
    "1. https://github.com/mostly-ai/public-demo-data/blob/dev/firstnames_at/firstnames_at.csv.gz\n",
    "1. https://www.frontiersin.org/articles/10.3389/fdata.2021.679939/full\n",
    "1. https://mostly.ai/blog/truly-anonymous-synthetic-data-legal-definitions-part-ii/"
   ]
  }
 ],
 "metadata": {
  "colab": {
   "provenance": []
  },
  "kernelspec": {
   "display_name": "Python 3 (ipykernel)",
   "language": "python",
   "name": "python3"
  },
  "language_info": {
   "codemirror_mode": {
    "name": "ipython",
    "version": 3
   },
   "file_extension": ".py",
   "mimetype": "text/x-python",
   "name": "python",
   "nbconvert_exporter": "python",
   "pygments_lexer": "ipython3",
   "version": "3.10.0"
  }
 },
 "nbformat": 4,
 "nbformat_minor": 4
}
